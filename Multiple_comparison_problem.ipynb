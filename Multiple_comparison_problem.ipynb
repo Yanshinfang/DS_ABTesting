{
 "cells": [
  {
   "cell_type": "markdown",
   "id": "2cb6da9e",
   "metadata": {},
   "source": [
    "# The Multiple Comparison Problem"
   ]
  },
  {
   "cell_type": "markdown",
   "id": "17a13f96",
   "metadata": {},
   "source": [
    "Import necessary libraries"
   ]
  },
  {
   "cell_type": "code",
   "execution_count": 1,
   "id": "396967e5",
   "metadata": {},
   "outputs": [],
   "source": [
    "import numpy as np\n",
    "import matplotlib.pyplot as plt\n",
    "import statsmodels.stats.multitest as smsm"
   ]
  },
  {
   "cell_type": "markdown",
   "id": "89fb0210",
   "metadata": {},
   "source": [
    "## The Four-Test Example\n",
    "\n",
    "The following were the four p-values:"
   ]
  },
  {
   "cell_type": "code",
   "execution_count": 4,
   "id": "3b846e52",
   "metadata": {},
   "outputs": [],
   "source": [
    "p1 = 0.015\n",
    "p2 = 0.029\n",
    "p3 = 0.008\n",
    "p4 = 0.026"
   ]
  },
  {
   "cell_type": "markdown",
   "id": "09290ebe",
   "metadata": {},
   "source": [
    "The plot of ordered p-values vs. rank + significance thresholds is created below:"
   ]
  },
  {
   "cell_type": "code",
   "execution_count": 5,
   "id": "243910c0",
   "metadata": {},
   "outputs": [
    {
     "data": {
      "image/png": "[encoded data removed]",
      "text/plain": [
       "<Figure size 432x288 with 1 Axes>"
      ]
     },
     "metadata": {
      "needs_background": "light"
     },
     "output_type": "display_data"
    }
   ],
   "source": [
    "alpha_star = 0.05\n",
    "p = [p1, p2, p3, p4]\n",
    "M = len(p)\n",
    "rank = np.linspace(start=1, stop=M, num=100)\n",
    "plt.figure()\n",
    "plt.scatter(x = range(1,M+1), y = np.sort(p), c = \"black\")\n",
    "plt.ylim(0,max([alpha_star,max(p)]))\n",
    "plt.xlim(1-0.1, M+0.1)\n",
    "plt.ylabel(\"Sorted p-values\")\n",
    "plt.xlabel(\"Rank\")\n",
    "plt.xticks(ticks = range(1,M+1), labels = range(1,M+1))\n",
    "# Holmes\n",
    "h, = plt.plot(rank, alpha_star/(M-rank+1), color = \"red\", linestyle = \"--\", label = \"Holmes\")\n",
    "# Bonferroni:\n",
    "b = plt.hlines(y = alpha_star/M, xmin = 0, xmax = M+1, color = \"blue\", linestyle = \"--\", label = \"Bonferroni\")\n",
    "# Sidak:\n",
    "s = plt.hlines(y = 1-(1-alpha_star)**(1/M), xmin = 0, xmax = M+1, color = \"green\", linestyle = \"--\", label = \"Sidak\")\n",
    "plt.legend(handles = [h, b, s], loc = \"upper left\")\n",
    "plt.show()"
   ]
  },
  {
   "cell_type": "markdown",
   "id": "be1ac501",
   "metadata": {},
   "source": [
    "A plot like the one above can be used to determine which null hypotheses to reject for any of the given correction methods. In particular, with the Bonferroni and Sidak corrections we reject only the null hypothesis associated with the smallest p-value (that was $H_{0,3}$). With the Holmes correction, we reject the null hypotheses associated with the smallests two p-values (these were $H_{0,3}$ and $H_{0,1}$).\n",
    "\n",
    "Next we'll use Python to calculate the adjusted p-values for each method. We'll use the `multipletests` function from the `statsmodels.stats.multitest` package. We begin with the Bonferroni adjustment."
   ]
  },
  {
   "cell_type": "code",
   "execution_count": 6,
   "id": "20027807",
   "metadata": {},
   "outputs": [
    {
     "name": "stdout",
     "output_type": "stream",
     "text": [
      "Should I reject H0?  [False False  True False]\n",
      "The adjusted p-values are:  [0.06  0.116 0.032 0.104]\n"
     ]
    }
   ],
   "source": [
    "res, padj, alphSid, alphBonf = smsm.multipletests(pvals = p, alpha = 0.05, method = \"bonferroni\")\n",
    "print(\"Should I reject H0? \", res)\n",
    "print(\"The adjusted p-values are: \", padj)"
   ]
  },
  {
   "cell_type": "markdown",
   "id": "426091f1",
   "metadata": {},
   "source": [
    "We see that only the adusted version of $p_3$ is below $\\alpha^\\star = 0.05$, meaning that with the Bonferroni correction, we only reject $H_{0,3}$. This agrees with the conclusion drawn from the plot above.\n",
    "\n",
    "Next we consider the Sidak adjustment."
   ]
  },
  {
   "cell_type": "code",
   "execution_count": 5,
   "id": "bef8e5ea",
   "metadata": {},
   "outputs": [
    {
     "name": "stdout",
     "output_type": "stream",
     "text": [
      "Should I reject H0?  [False False  True False]\n",
      "The adjusted p-values are:  [0.05866345 0.11105085 0.03161804 0.10001385]\n"
     ]
    }
   ],
   "source": [
    "res, padj, alphSid, alphBonf = smsm.multipletests(pvals = p, alpha = 0.05, method = \"sidak\")\n",
    "print(\"Should I reject H0? \", res)\n",
    "print(\"The adjusted p-values are: \", padj)"
   ]
  },
  {
   "cell_type": "markdown",
   "id": "1dee19a1",
   "metadata": {},
   "source": [
    "We see that only the adusted version of $p_3$ is below $\\alpha^\\star = 0.05$, meaning that with the Sidak correction, we only reject $H_{0,3}$. This agrees with the conclusion drawn from the plot above.\n",
    "\n",
    "Finally we consider the Holm adjustment."
   ]
  },
  {
   "cell_type": "code",
   "execution_count": 6,
   "id": "7dfb9b7d",
   "metadata": {},
   "outputs": [
    {
     "name": "stdout",
     "output_type": "stream",
     "text": [
      "Should I reject H0?  [ True False  True False]\n",
      "The adjusted p-values are:  [0.045 0.052 0.032 0.052]\n"
     ]
    }
   ],
   "source": [
    "res, padj, alphSid, alphBonf = smsm.multipletests(pvals = p, alpha = 0.05, method = \"holm\")\n",
    "print(\"Should I reject H0? \", res)\n",
    "print(\"The adjusted p-values are: \", padj)"
   ]
  },
  {
   "cell_type": "markdown",
   "id": "64b999f5",
   "metadata": {},
   "source": [
    "We see that the adusted versions of $p_3$ and $p_1$ are both below $\\alpha^\\star = 0.05$, meaning that with the Holm correction, we reject $H_{0,3}$ and $H_{0,1}$. This agrees with the conclusion drawn from the plot above."
   ]
  }
 ],
 "metadata": {
  "kernelspec": {
   "display_name": "Python 3",
   "language": "python",
   "name": "python3"
  },
  "language_info": {
   "codemirror_mode": {
    "name": "ipython",
    "version": 3
   },
   "file_extension": ".py",
   "mimetype": "text/x-python",
   "name": "python",
   "nbconvert_exporter": "python",
   "pygments_lexer": "ipython3",
   "version": "3.8.8"
  }
 },
 "nbformat": 4,
 "nbformat_minor": 5
}
