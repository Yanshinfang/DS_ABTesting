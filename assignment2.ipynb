{
 "cells": [
  {
   "cell_type": "code",
   "execution_count": 22,
   "metadata": {},
   "outputs": [],
   "source": [
    "import pandas as pd\n",
    "import numpy as np\n",
    "from scipy import stats\n",
    "\n",
    "import matplotlib.pyplot as plt"
   ]
  },
  {
   "cell_type": "markdown",
   "metadata": {},
   "source": [
    "### QUESTION 1 [11 points]"
   ]
  },
  {
   "cell_type": "markdown",
   "metadata": {},
   "source": [
    "(a) In the scenario below, calculate the appropriate test statistic given the null hypothesis and the relevant data summaries. You may use Python for this question, but make sure to show your work.\n",
    "\n",
    "$$H_0: \\pi_1 \\leq \\pi_2$$\n",
    "\n",
    "* $n_1 = 500$, $\\widehat{\\pi}_1 = \\overline{y}_1 = 0.05$\n",
    "      \n",
    "* $n_2 = 500$, $\\widehat{\\pi}_2 = \\overline{y}_2 = 0.06$"
   ]
  },
  {
   "cell_type": "code",
   "execution_count": 3,
   "metadata": {},
   "outputs": [
    {
     "data": {
      "text/plain": [
       "-0.6935419821470654"
      ]
     },
     "execution_count": 3,
     "metadata": {},
     "output_type": "execute_result"
    }
   ],
   "source": [
    "n1 = 500\n",
    "n2 = 500\n",
    "pi_1 = 0.05\n",
    "pi_2 = 0.06\n",
    "pi_hat = (n1*pi_1 + n2*pi_2)/(n1+n2)\n",
    "t_stat = (pi_1 - pi_2)/np.sqrt(pi_hat*(1-pi_hat)*(1/n1+1/n2))\n",
    "t_stat"
   ]
  },
  {
   "cell_type": "markdown",
   "metadata": {},
   "source": [
    "(b) [2 points] Suppose we perform an experiment with two conditions containing $n_1 = 120$ and $n_2 = 110$ units, respectively. For the hypothesis and test statistic below, state the null distribution and calculate the appropriate p-value. You may use Python for this question, but make sure to show your work. $$H_0: \\pi_1 \\geq \\pi_2 \\text{ vs. } H_A: \\pi_1 < \\pi_2$$ \n",
    "    \n",
    "* $t = 1.68$\n",
    "    \n",
    "$\\;$"
   ]
  },
  {
   "cell_type": "code",
   "execution_count": 7,
   "metadata": {},
   "outputs": [
    {
     "data": {
      "text/plain": [
       "0.9535213421362799"
      ]
     },
     "execution_count": 7,
     "metadata": {},
     "output_type": "execute_result"
    }
   ],
   "source": [
    "# null distribution ~ N(0,1)\n",
    "# p-value = P(T<=t) \n",
    "t = 1.68\n",
    "p_value = stats.norm.cdf(t)\n",
    "p_value"
   ]
  },
  {
   "cell_type": "markdown",
   "metadata": {},
   "source": [
    "(c) [4 points] Consider the following hypothesis scenario. $$H_0: \\mu_1 = \\mu_2 = \\mu_3 \\text{ vs. } H_A: \\mu_j \\neq \\mu_k \\text{ for some } j \\neq k$$ where the number of units in each condition is given by $n_1=499, n_2=498, n_3=506$ and the resulting test statistic calculated from the observed data is $t = 3.5$.\n",
    "\n",
    "    \n",
    "i. [1 point] State the null distribution of this test statistic.\n",
    "\n",
    "    df1 = m-1 = 3-1 = 2 \n",
    "\n",
    "    df2 = N-m = (499+498+506) - 3 = 1500\n",
    "    \n",
    "    null distribution ~ F(2, 1500)\n",
    "\n",
    "\n",
    "ii. [1 point] Calculate the appropriate p-value. You should use Python for this part, but be sure to state the formula for the p-value in addition to the value calculated in Python. \n"
   ]
  },
  {
   "cell_type": "code",
   "execution_count": 75,
   "metadata": {},
   "outputs": [
    {
     "name": "stdout",
     "output_type": "stream",
     "text": [
      "p-value = 0.030444234311075125\n"
     ]
    }
   ],
   "source": [
    "df1 = 2 \n",
    "df2 = 1500\n",
    "\n",
    "# p_value = P(T>=3.5)\n",
    "t = 3.5\n",
    "p_value = 1 - stats.f.cdf(t, dfn=df1, dfd=df2)\n",
    "print('p-value =', p_value)"
   ]
  },
  {
   "cell_type": "markdown",
   "metadata": {},
   "source": [
    "iii. [1 point] Using a 5\\% significance level, state whether you reject or do not reject $H_0$.\n",
    "\n",
    "    Since the p_value <= 0.05, we have strong evidence against H0 so I reject H0\n",
    "\n",
    "iv. [1 point] State the rejection region associated with this test at a 5\\% significance level. Do you draw the same conlcusion as in part iii.?\n",
    "    \n",
    "    Rejection region = {t| t>=3.001723188658652} and it has same conclusion as in part iii. (We reject)"
   ]
  },
  {
   "cell_type": "code",
   "execution_count": 37,
   "metadata": {},
   "outputs": [
    {
     "data": {
      "text/plain": [
       "3.001723188658652"
      ]
     },
     "execution_count": 37,
     "metadata": {},
     "output_type": "execute_result"
    }
   ],
   "source": [
    "critical_t_value = stats.f.ppf(1-0.05, 2, 1500)\n",
    "critical_t_value"
   ]
  },
  {
   "cell_type": "markdown",
   "metadata": {},
   "source": [
    "(d) [4 points] Consider the following hypothesis scenario. $$H_0: \\pi_1 = \\pi_2 = \\pi_3 = \\pi_4 \\text{ vs. } H_A: \\pi_j \\neq \\pi_k \\text{ for some } j \\neq k$$ where the number of units in each condition is given by $n_1=n_2=n_3=n_4=500$ and the resulting test statistic calculated from the observed data is $t = 3$.\n",
    "    \n",
    "    \n",
    "i. [1 point] State the null distribution of this test statistic.\n",
    "\n",
    "    m = 4\n",
    "    null distribution ~ χ²(m-1) => null distribution ~ χ²(3)\n",
    "\n"
   ]
  },
  {
   "cell_type": "markdown",
   "metadata": {},
   "source": [
    "ii. [1 point] Calculate the appropriate p-value. You should use Python for this part, but be sure to state the formula for the p-value in addition to the value calculated in Python. "
   ]
  },
  {
   "cell_type": "code",
   "execution_count": 76,
   "metadata": {},
   "outputs": [
    {
     "name": "stdout",
     "output_type": "stream",
     "text": [
      "p-value = 0.39162517627108906\n"
     ]
    }
   ],
   "source": [
    "# p_value = P(T>=3)\n",
    "t = 3\n",
    "p_value = 1 - stats.chi2.cdf(t, df=3)\n",
    "print('p-value =', p_value)"
   ]
  },
  {
   "cell_type": "markdown",
   "metadata": {},
   "source": [
    "iii. [1 point] Using a 5\\% significance level, state whether you reject or do not reject $H_0$.\n",
    "    \n",
    "    Since the p_value > 0.05, we don't have strong evidence against H0 so I don't reject H0\n",
    "\n",
    "\n",
    "iv. [1 point] State the rejection region associated with this test at a 5\\% significance level. Do you draw the same conlcusion as in part iii.?\n",
    "\n",
    "    Rejection region = {t| t>=7.814727903251179} and it has same conclusion as in part iii. (Don't reject)"
   ]
  },
  {
   "cell_type": "code",
   "execution_count": 39,
   "metadata": {},
   "outputs": [
    {
     "data": {
      "text/plain": [
       "7.814727903251179"
      ]
     },
     "execution_count": 39,
     "metadata": {},
     "output_type": "execute_result"
    }
   ],
   "source": [
    "critical_t_value = stats.chi2.ppf(1-0.05, 3)\n",
    "critical_t_value"
   ]
  },
  {
   "cell_type": "markdown",
   "metadata": {},
   "source": [
    "<div style=\"page-break-after: always; visibility: hidden\"> \n",
    "\\pagebreak \n",
    "</div>"
   ]
  },
  {
   "cell_type": "markdown",
   "metadata": {},
   "source": [
    "### QUESTION 2 [15 points]"
   ]
  },
  {
   "cell_type": "markdown",
   "metadata": {},
   "source": [
    "Suppose we are interested in using the $Z$-test for proportions to test the following hypothesis: $$H_0: \\pi_1\\leq\\pi_2 \\text{ versus } H_A: \\pi_1 > \\pi_2$$ where $\\pi_j$ is the expected response in condition $j$ assuming $Y_{ij} \\sim \\text{BIN}(1,\\pi_j)$, $i=1,2,\\ldots,n_j$, $j=1,2$. Suppose also that interest lies in determining the appropriate sample sizes $n_1$ and $n_2$ to test this hypothesis.\n",
    "\n",
    "$\\;$"
   ]
  },
  {
   "cell_type": "markdown",
   "metadata": {},
   "source": [
    "(a) [5 points] Assume we want the sample size in condition 1 to be a fixed (and known) multiple of the sample size in condition 2 (i.e., $n_1=k n_2$ for some known constant $k>0$). Show that the sample size in condition 2, $n_2$, required to test this hypothesis at a significance level $\\alpha$ and power $1-\\beta$ and with a minimum detectable effect of $\\pi_1-\\pi_2$, is given by $$n_2 = \\frac{\\left(z_{\\alpha} - z_{1-\\beta}\\right)^2\\left[\\frac{\\pi_1(1-\\pi_1)}{k}+\\pi_2(1-\\pi_2)\\right]}{(\\pi_1 - \\pi_2)^2}$$ where $z_c$ is the value in the standard normal distribution such that $\\text{Pr}(Z \\geq z_c) = c$.\n",
    "\n"
   ]
  },
  {
   "cell_type": "markdown",
   "metadata": {},
   "source": [
    "#### Ans:\n",
    "Test statistic:\n",
    "$$T = \\frac{\\bar{Y}_1 - \\bar{Y}_2 - \\delta}{\\sqrt{\\frac{\\pi_1(1-\\pi_1)}{n_1} + \\frac{\\pi_2(1-\\pi_2)}{n_2}}}$$\n",
    "\n",
    "Rejection Region: $$R = \\{ t \\,|\\, t \\geq z_{\\alpha} \\}$$\n",
    "\n",
    "\n",
    "The power of the test:\n",
    "\\begin{align*}\n",
    "1 - \\beta & = P\\left(\\frac{\\bar{Y}_1 - \\bar{Y}_2}{\\sqrt{\\frac{\\pi_1(1-\\pi_1)}{n_1} + \\frac{\\pi_2(1-\\pi_2)}{n_2}}} \\geq z_{\\alpha} \\mid H_0 \\text{ is false}\\right) \\\\\n",
    "& = P\\left(T \\geq z_{\\alpha} \\mid H_0 \\text{ is false}\\right) \\\\\n",
    "& = P\\left(T \\geq z_{\\alpha} \\mid H_0 \\text{ is false}\\right) \\\\\n",
    "& = P\\left(T \\geq z_{\\alpha} \\mid H_0 \\text{ is false}\\right) \\\\\n",
    "& = P\\left(\\frac{\\bar{Y}_1 - \\bar{Y}_2}{\\sqrt{\\frac{\\pi_1(1-\\pi_1)}{n_1} + \\frac{\\pi_2(1-\\pi_2)}{n_2}}} \\geq z_{\\alpha} \\mid H_0 \\text{ is false}\\right) \\\\\n",
    "& = P\\left(Z \\geq z_{\\alpha} - \\delta\\sqrt{\\frac{\\pi_1(1-\\pi_1)}{n_1} + \\frac{\\pi_2(1-\\pi_2)}{n_2}} \\right) \\\\\n",
    "\\text{for } \\delta = \\pi_1 - \\pi_2 \\neq 0 \\\\\n",
    "z_{1-\\beta} & = z_{\\alpha} - \\delta\\sqrt{\\frac{\\pi_1(1-\\pi_1)}{n_1} + \\frac{\\pi_2(1-\\pi_2)}{n_2}} \\\\\n",
    "\\text{Now, solve for } n_2 \\text{ given that } n_1=k n_2:\\\\\n",
    "\\pi_1(1-\\pi_1)n_1 + \\pi_2(1-\\pi_2)n_2 & = (z_{\\alpha} - z_{1-\\beta})^2\\delta^2 \\\\\n",
    "n_2 & = \\frac{(z_{\\alpha} - z_{1-\\beta})^2 \\left[\\frac{\\pi_1(1-\\pi_1)}{k} + \\pi_2(1-\\pi_2)\\right]}{(\\pi_1 - \\pi_2)^2}\n",
    "\\end{align*}\n",
    "\n"
   ]
  },
  {
   "cell_type": "markdown",
   "metadata": {},
   "source": [
    "(b) [3 points] Based on the equations in part (a), write a sample size determination function in Python called `ssd_z_test_prop` which takes as input `p1`, `p2`, `sig.level`, `power`, and `k`, and that outputs the required integer sample sizes `n1` and `n2`, where\n",
    "\n",
    "    * `p1`: the best guess of $\\pi_1$ \n",
    "    * `p2`: the best guess of $\\pi_2$\n",
    "    * `sig.level`: the significance level $\\alpha$\n",
    "    * `power`: the power $1-\\beta$\n",
    "    * `k`: the multiplicative factor relating `n1` to `n2`\n",
    "\n",
    "\n",
    "    "
   ]
  },
  {
   "cell_type": "code",
   "execution_count": 57,
   "metadata": {},
   "outputs": [],
   "source": [
    "def ssd_z_test_prop(p1, p2, sig_level, power, k):\n",
    "    z_a = stats.norm.ppf(1 - sig_level)\n",
    "    z_p = stats.norm.ppf(1- power)\n",
    "    \n",
    "    # Calculate the difference in proportions (delta)\n",
    "    delta = np.abs(p1 - p2)\n",
    "    \n",
    "    # Calculate the required sample size for the second group (n2)\n",
    "    n2 = (z_a - z_p)**2 * ((p1 * (1 - p1)) / k + p2 * (1 - p2)) / (delta**2)\n",
    "    n1 = k * n2\n",
    "    \n",
    "    return int(n1), int(n2)"
   ]
  },
  {
   "cell_type": "markdown",
   "metadata": {},
   "source": [
    "(c) [1 point] Using your function from part (b), determine the sample sizes required in each condition to test the hypothesis above, assuming Type I and Type II error rates of 5%, and assuming $\\pi_1= 0.05$ and $\\pi_2= 0.06$ and $k=1$.\n",
    "\n",
    "$\\;$"
   ]
  },
  {
   "cell_type": "code",
   "execution_count": 58,
   "metadata": {},
   "outputs": [
    {
     "name": "stdout",
     "output_type": "stream",
     "text": [
      "n1:  11244\n",
      "n2:  11244\n"
     ]
    }
   ],
   "source": [
    "p1 = 0.05\n",
    "p2 = 0.06\n",
    "k = 1\n",
    "sig_level = 0.05\n",
    "power = 1 - 0.05\n",
    "n1, n2 = ssd_z_test_prop(p1, p2, sig_level, power, k)\n",
    "print('n1: ', n1)\n",
    "print('n2: ', n2)"
   ]
  },
  {
   "cell_type": "markdown",
   "metadata": {},
   "source": [
    "(d) [1 point] Using your function from part (b), determine the sample sizes required in each condition to test the hypothesis above, assuming Type I and Type II error rates of 5%, and assuming $\\pi_1= 0.05$ and $\\pi_2= 0.06$ and $k=1.5$.\n",
    "\n",
    "$\\;$"
   ]
  },
  {
   "cell_type": "code",
   "execution_count": 59,
   "metadata": {},
   "outputs": [
    {
     "name": "stdout",
     "output_type": "stream",
     "text": [
      "n1:  14296\n",
      "n2:  9530\n"
     ]
    }
   ],
   "source": [
    "p1 = 0.05\n",
    "p2 = 0.06\n",
    "k = 1.5\n",
    "sig_level = 0.05\n",
    "power = 1 - 0.05\n",
    "n1, n2 = ssd_z_test_prop(p1, p2, sig_level, power, k)\n",
    "print('n1: ', n1)\n",
    "print('n2: ', n2)"
   ]
  },
  {
   "cell_type": "markdown",
   "metadata": {},
   "source": [
    "(e) [5 points] Experiments are commonly run with the involvement of several stakeholders. And it is typical for these stakeholders to disagree on their Type I and Type II error risk tolerances. As such, there is usually ambiguity concerning the values of $\\alpha$ and $1-\\beta$ that should be used in the sample size determination. As such, it is good practice to perform sample size calculations across a range of plausible values and summarize the results visually with plots.\n",
    "\n",
    "Using your function from part (b), construct a plot of $n_2$ versus $1-\\beta$. Consider $1-\\beta$ in the range $[0.8, 0.99]$, and assume $\\pi_1=0.05$, $\\pi_2=0.06$, and $k=1$. On this plot, include different curves (and a legend that distinguishes them) corresponding to $\\alpha \\in \\{0.001, 0.005, 0.01, 0.05, 0.1\\}$. Be sure to appropriately label your axes. Briefly describe the patterns you observe in this plot.\n",
    "\n",
    "`As the significance level increases, the curves shift downward, indicating a decrease in the required sample size`\n",
    "\n",
    "`Across all curves, as the power (1−β) increases, the required sample size (n2) generally increases`"
   ]
  },
  {
   "cell_type": "code",
   "execution_count": 62,
   "metadata": {},
   "outputs": [
    {
     "data": {
      "image/png": "[encoded data removed]",
      "text/plain": [
       "<Figure size 1000x600 with 1 Axes>"
      ]
     },
     "metadata": {},
     "output_type": "display_data"
    }
   ],
   "source": [
    "p1 = 0.05\n",
    "p2 = 0.06\n",
    "k = 1\n",
    "sig_level = [0.001, 0.005, 0.01, 0.05, 0.1]\n",
    "power = np.linspace(0.8, 0.99, 100)\n",
    "\n",
    "n2_values = {alpha: [ssd_z_test_prop(p1, p2, alpha, p, k)[1] for p in power] for alpha in sig_level}\n",
    "\n",
    "# Plotting\n",
    "plt.figure(figsize=(10, 6))\n",
    "for alpha, n2_list in n2_values.items():\n",
    "    plt.plot(power, n2_list, label=f'α = {alpha}')\n",
    "\n",
    "plt.title('Sample Size vs. Power (1 - β) for Different α values')\n",
    "plt.xlabel('Power (1 - β)')\n",
    "plt.ylabel('$n_2$')\n",
    "plt.legend()\n",
    "plt.grid(True)\n",
    "plt.show()"
   ]
  },
  {
   "cell_type": "markdown",
   "metadata": {},
   "source": [
    "<div style=\"page-break-after: always; visibility: hidden\"> \n",
    "\\pagebreak \n",
    "</div>"
   ]
  },
  {
   "cell_type": "markdown",
   "metadata": {},
   "source": [
    "### QUESTION 3 [29 points]\n",
    "\n",
    "[Stitch Fix](https://www.stitchfix.com/) is an online personal styling service that helps take the stress out of shopping for clothes. As a new client you complete a \"style quiz\" in which you disclose your personal measurements, sizes, preferred fit, preferred styles, and a budget. You are then matched to a personal styler who handpicks clothing, footwear and accessories to match your unique sizes and tastes. Then, at regular intervals in time, your \"Fix\" (a five-item shipment) is mailed to you. Upon receiving your Fix you may choose to keep 0-5 items and return (for free) any items that you do not wish to purchase. A non-refundable \\$20 \"styling fee\" is charged for each Fix, independent of the number of items you keep. However, this \\$20 is applied as credit toward any items that you do keep.\n",
    "\n",
    "In the interests of client satisfaction and inventory management, Stitch Fix would like to minimize the *task-completion time* (TCT), the time (in days) between a client submitting their style quiz, and the client's Fix being ready for shipment. This time is influenced in part by inventory, warehousing, and supply chain issues, but is also influenced by the time it takes the Fix to be curated by the stylist. The data scientists on the Stylist & CX Algorithms team are interested in investigating whether average TCT can be reduced by augmenting or replacing the human stylist with a recommendation algorithm. To investigate this they run an experiment with $m=3$ conditions:\n",
    "\n",
    "* Condition 1: Fixes are curated solely by a human stylist\n",
    "* Condition 2: Fixes are curated solely by a machine learning algorithm\n",
    "* Condition 3: Fixes are curated by a combination of of human and machine input\n",
    "\n",
    "One thousand clients are randomized into each of these three conditions, and the task-completion time for each client is measured.\n",
    "\n",
    "(a)\t[2 points] What is the metric of interest and what is the corresponding response variable?\n",
    "\n",
    "    MOI: average task-completion time, Responce variable: measurement of task-completion time itself  \n",
    "\n",
    "(b)\t[2 points] What is the design factor and what are its levels?\n",
    "\n",
    "    design factor: the way fixes are curated.\n",
    "    \n",
    "    levels={by human stylist, by machine learning algorithm, by combination of human and machine input}\n",
    "\n",
    "(c)\t[1 points] What constitutes an experimental unit in this experiment?\n",
    "\n",
    "    experimental unit: client who is participating in the Stitch Fix study\n",
    "\n",
    "\n",
    "(d)\t[1 point] State the null and alternative hypotheses for a test of overall equality in the context of this experiment. Use the notation $\\mu_j$ which represents the metric of interest in condition $j=1,2,3$.\n",
    "$$\n",
    "H_0: \\mu_1 = \\mu_2 = \\mu_3\n",
    "\\text{ vs. } H_A:\\mu_j\\neq\\mu_k \\text{ for some }j\\neq k$$\n",
    "\n",
    "\n",
    "(e)\t[3 points] The file `stitchfix.csv` contains `TCT` measurements for the 3000 clients (1000 in each of the three experimental conditions). Construct side-by-side box plots to visualize the `TCT` distribution in each of the experimental conditions. Comment on which condition appears to minimize task-completion time.\n",
    "\n",
    "    Comment: Condition 2 (by machine learning algorithm) appears to minimize task-completion time\n"
   ]
  },
  {
   "cell_type": "code",
   "execution_count": 29,
   "metadata": {},
   "outputs": [
    {
     "data": {
      "image/png": "[encoded data removed]",
      "text/plain": [
       "<Figure size 640x480 with 1 Axes>"
      ]
     },
     "metadata": {},
     "output_type": "display_data"
    }
   ],
   "source": [
    "df = pd.read_csv('./data/stitchfix.csv')\n",
    "y1 = df[df['Condition']=='Human'][\"TCT\"]\n",
    "y2 = df[df['Condition']=='Machine'][\"TCT\"]\n",
    "y3 = df[df['Condition']=='Hybrid'][\"TCT\"]\n",
    "\n",
    "y = [y1, y2, y3]\n",
    "plt.boxplot(y, labels = [\"Human\", \"Machine\", \"Hybrid\"]);\n",
    "plt.ylabel(\"task-completion time (TCT)\");\n",
    "plt.xlabel(\"Condition\");"
   ]
  },
  {
   "cell_type": "markdown",
   "metadata": {},
   "source": [
    "(f) [3 points] Using the observed data, test the hypothesis in (d) at a 1% significance level. Clearly state your conclusion in the context of the problem, and explain whether this conclusion is surprising, given what you see in the box plots from part (e). **NOTE:** although you may use Python to test this hypothesis, be sure to:\n",
    "\n",
    "- State the formula and the value of the test statistic\n",
    "\n",
    "- State the null distribution\n",
    "\n",
    "- State the formula and the value of the p-value \n",
    "  \n",
    "`Statement:`\n",
    "\n",
    "`t_stat = MSR/MSE`\n",
    "\n",
    "`null distribution ~ F(2, 2997)`\n",
    "\n",
    "`p-value = P(T>=t)`"
   ]
  },
  {
   "cell_type": "code",
   "execution_count": 40,
   "metadata": {},
   "outputs": [
    {
     "name": "stdout",
     "output_type": "stream",
     "text": [
      "t = 2000.4765973989809\n",
      "p-value = 0.0\n"
     ]
    }
   ],
   "source": [
    "# m = 3\n",
    "# N = 3000\n",
    "# null distribution ~ F(2, 2997)\n",
    "# t_stat = MSR/MSE\n",
    "# p-value = P(T>=t)\n",
    "\n",
    "m = 3\n",
    "n1 = len(y1)\n",
    "n2 = len(y2)\n",
    "n3 = len(y3)\n",
    "N = n1 + n2 + n3\n",
    "ybar = np.mean(df[\"TCT\"])\n",
    "SSC = n1*(np.mean(y1) - ybar)**2 + n2*(np.mean(y2) - ybar)**2 + n3*(np.mean(y3) - ybar)**2 \n",
    "SSE = np.sum((y1 - np.mean(y1))**2) + np.sum((y2 - np.mean(y2))**2) + np.sum((y3 - np.mean(y3))**2)\n",
    "t = (SSC/(m-1)) / (SSE/(N-m))\n",
    "pv = stats.f.sf(t, dfn = m-1, dfd = N-m)\n",
    "print(\"t =\", t)\n",
    "print(\"p-value =\", pv)"
   ]
  },
  {
   "cell_type": "markdown",
   "metadata": {},
   "source": [
    "`Conclusion: Since the p-value < 0.01, we have strong evidence against H0 so I reject H0, meaning that the average TCT in three condition are different. It is not surprising from the plot I see in part (e), the plot also show the similar result: at least one mean is different than others`"
   ]
  },
  {
   "cell_type": "markdown",
   "metadata": {},
   "source": [
    "(g) [3 points] As a follow-up to part (f), calculate the p-values associated with Student t-tests of each of the following three hypotheses. Note that you need only state the resulting values themselves, and you do not need to justify the use of Student t-tests with F-tests for variances.\n",
    "\n",
    "$$H_0: \\mu_1 \\leq \\mu_2 \\text{ versus } H_A: \\mu_1 > \\mu_2$$\n",
    "$$H_0: \\mu_1 \\leq \\mu_3 \\text{ versus } H_A: \\mu_1 > \\mu_3$$\n",
    "$$H_0: \\mu_2 \\geq \\mu_3 \\text{ versus } H_A: \\mu_2 < \\mu_3$$\n"
   ]
  },
  {
   "cell_type": "code",
   "execution_count": 44,
   "metadata": {},
   "outputs": [
    {
     "name": "stdout",
     "output_type": "stream",
     "text": [
      "t = 63.09842216100409\n",
      "p-value = 0.0\n"
     ]
    }
   ],
   "source": [
    "# H0: u1<=u2 vs. Ha: u1>u2\n",
    "t, p1 = stats.ttest_ind(y1, y2, equal_var = True, alternative = 'greater')\n",
    "print(\"t =\", t)\n",
    "print(\"p-value =\", p1)"
   ]
  },
  {
   "cell_type": "code",
   "execution_count": 45,
   "metadata": {},
   "outputs": [
    {
     "name": "stdout",
     "output_type": "stream",
     "text": [
      "t = 33.11946642646162\n",
      "p-value = 2.0627641265881884e-192\n"
     ]
    }
   ],
   "source": [
    "# H0: u1<=u3 vs. Ha: u1>u3\n",
    "t, p2 = stats.ttest_ind(y1, y3, equal_var = True, alternative = 'greater')\n",
    "print(\"t =\", t)\n",
    "print(\"p-value =\", p2)"
   ]
  },
  {
   "cell_type": "code",
   "execution_count": 47,
   "metadata": {},
   "outputs": [
    {
     "name": "stdout",
     "output_type": "stream",
     "text": [
      "t = -30.19673331793343\n",
      "p-value = 1.233965887767345e-165\n"
     ]
    }
   ],
   "source": [
    "# H0: u2>=u3 vs. Ha: u2<u3\n",
    "t, p3 = stats.ttest_ind(y2, y3, equal_var = True, alternative = 'less')\n",
    "print(\"t =\", t)\n",
    "print(\"p-value =\", p3)"
   ]
  },
  {
   "cell_type": "markdown",
   "metadata": {},
   "source": [
    "(h) [6 points] Using the p-values from (g), in this question you will identify the condition that minimizes average task-completion time while controlling the family-wise error rate. Note that you may use `multipletests()` where appropriate.\n",
    "\n",
    "i. [2 points] Calculate the Bonferroni-adjusted p-values and draw your conclusion assuming we wish to ensure $FWER\\leq 0.01$.\n"
   ]
  },
  {
   "cell_type": "code",
   "execution_count": 49,
   "metadata": {},
   "outputs": [
    {
     "name": "stdout",
     "output_type": "stream",
     "text": [
      "Should I reject H0?  [ True  True  True]\n",
      "The adjusted p-values are:  [0.00000000e+000 6.18829238e-192 3.70189766e-165]\n"
     ]
    }
   ],
   "source": [
    "import statsmodels.stats.multitest as smsm\n",
    "p_val = [p1, p2, p3]\n",
    "res, padj, alphSid, alphBonf = smsm.multipletests(pvals = p_val, alpha = 0.01, method = \"bonferroni\")\n",
    "print(\"Should I reject H0? \", res)\n",
    "print(\"The adjusted p-values are: \", padj)"
   ]
  },
  {
   "cell_type": "markdown",
   "metadata": {},
   "source": [
    "ii. [2 points] Calculate the Šidák-adjusted p-values and draw your conclusion assuming we wish to ensure $FWER\\leq 0.01$."
   ]
  },
  {
   "cell_type": "code",
   "execution_count": 50,
   "metadata": {},
   "outputs": [
    {
     "name": "stdout",
     "output_type": "stream",
     "text": [
      "Should I reject H0?  [ True  True  True]\n",
      "The adjusted p-values are:  [0.00000000e+000 6.18829238e-192 3.70189766e-165]\n"
     ]
    }
   ],
   "source": [
    "res, padj, alphSid, alphBonf = smsm.multipletests(pvals = p_val, alpha = 0.01, method = \"sidak\")\n",
    "print(\"Should I reject H0? \", res)\n",
    "print(\"The adjusted p-values are: \", padj)"
   ]
  },
  {
   "cell_type": "markdown",
   "metadata": {},
   "source": [
    "\n",
    "iii. [2 points] Calculate the Holm-adjusted p-values and draw your conclusion assuming we wish to ensure $FWER\\leq 0.01$."
   ]
  },
  {
   "cell_type": "code",
   "execution_count": 51,
   "metadata": {},
   "outputs": [
    {
     "name": "stdout",
     "output_type": "stream",
     "text": [
      "Should I reject H0?  [ True  True  True]\n",
      "The adjusted p-values are:  [0.00000000e+000 4.12552825e-192 1.23396589e-165]\n"
     ]
    }
   ],
   "source": [
    "res, padj, alphSid, alphBonf = smsm.multipletests(pvals = p_val, alpha = 0.01, method = \"holm\")\n",
    "print(\"Should I reject H0? \", res)\n",
    "print(\"The adjusted p-values are: \", padj)"
   ]
  },
  {
   "cell_type": "markdown",
   "metadata": {},
   "source": [
    "(i) [4 points] Suppose that rather than minimizing *average* TCT, interest lies in minimizing the 90th percentile, $Q(0.90)$, of the TCT distribution. In this case, such an investigation may begin with a gatekeeper test of $$H_0: Q_1(0.90)=Q_2(0.90)=Q_3(0.90) ~~ \\text{versus} ~~ H_A: Q_j(0.90)\\neq Q_k(0.90) \\text{ for some }j\\neq k.$$ In an enumerated list (like the one on pages 7/8 of the Lecture 3 notes), describe how this hypothesis may be tested with a randomization test. Be sure to carefully define an appropriate test statistic,\n",
    "provide an explanation of what values provide evidence against $H_0$, and explicitly state the formula for\n",
    "the corresponding p-value calculation.\n"
   ]
  },
  {
   "cell_type": "markdown",
   "metadata": {},
   "source": [
    "`Use this as test statistic` $$ t = |(Q_1(0.90)-Q_2(0.90))| + |(Q_1(0.90)-Q_3(0.90))| + |(Q_2(0.90)-Q_3(0.90))|$$\n",
    "\n",
    "`Calculate the observed test statistic using the actual data`\n",
    "\n",
    "`Randomization Procedure`:\n",
    "- Pool the data from all groups.\n",
    "- Randomly permute the group labels to create a new set of data under the null hypothesis. ( simulate the scenario where there is no difference in the 90th percentiles between groups.)\n",
    "\n",
    "`Calculate Test Statistic for Randomized Data`\n",
    "- calculate the test statistic (t_star) using the same formula.\n",
    "\n",
    "`Repeat randomization and caculate t_star steps N times`\n",
    "\n",
    "`P value`\n",
    "- p_value = # of t_star that are as extreme as t / N"
   ]
  },
  {
   "cell_type": "markdown",
   "metadata": {},
   "source": [
    "(j) [1 point] Stitch Fix considers a Fix to be \"successful\" if the majority ($\\geq3$) of its items are kept. Maximizing *Fix success rate* (FSR), the proportion of Fixes for which 3 or more items are kept, is of interest. Like the task-completion time, Fix success rate is believed to be influenced by whether the Fix is curated by a human stylist, a recommendation algorithm, or a hybrid of the two. To investigate this, in the same experiment described above, the data scientists also recorded a binary indicator for each client which takes the value 1 if the client's Fix was a success, and 0 otherwise. State the null and alternative hypotheses for a test of overall equality of FSRs across the three conditions. Use the notation $\\pi_j$ which represents the FSR in condition $j=1,2,3$.\n",
    "\n",
    "\n",
    "- Null Hypothesis $$H_0: \\pi_1 = \\pi_2 = \\pi_3$$\n",
    "\n",
    "- Alternative Hypothesis $$H_A: \\text{At least one of } \\pi_j \\text{ differs from the others}$$\n"
   ]
  },
  {
   "cell_type": "markdown",
   "metadata": {},
   "source": [
    "(k) [3 points] Using the `Fix.Success` data in the `stitchfix.csv` file, test the hypothesis in (j) at a 1% significance level. **NOTE:** although you may use Python to test this hypothesis, be sure to:\n",
    "\n",
    "- State the formula and the value of the test statistic\n",
    "\n",
    "- State the null distribution\n",
    "\n",
    "- State the formula and the value of the p-value \n",
    "\n",
    "`Statement:`\n",
    "\n",
    "`m = 3`\n",
    "\n",
    "$$tstat = \\sum_{l=0}^1 \\sum_{j=1}^3 \\frac{(O_{l,j} - E_{l,j})^2}{E_{l,j}}$$\n",
    "\n",
    "\n",
    "$$\\text{null distribution} \\sim \\chi^2(2)$$\n",
    "\n",
    "\n",
    "`p-value = P(T>=t)`"
   ]
  },
  {
   "cell_type": "code",
   "execution_count": 74,
   "metadata": {},
   "outputs": [
    {
     "name": "stdout",
     "output_type": "stream",
     "text": [
      "t = 57.491289198606275\n",
      "p-value = 3.2803876770015476e-13\n"
     ]
    }
   ],
   "source": [
    "y1 = df[df['Condition']=='Human'][\"Fix.Success\"]\n",
    "y2 = df[df['Condition']=='Machine'][\"Fix.Success\"]\n",
    "y3 = df[df['Condition']=='Hybrid'][\"Fix.Success\"]\n",
    "\n",
    "y1_t = len(y1[y1.values==1])\n",
    "y1_f = len(y1[y1.values!=1])\n",
    "\n",
    "y2_t = len(y2[y2.values==1])\n",
    "y2_f = len(y2[y2.values!=1])\n",
    "\n",
    "y3_t = len(y3[y3.values==1])\n",
    "y3_f = len(y3[y3.values!=1])\n",
    "\n",
    "tab = [[y1_t, y2_t, y3_t], [y1_f, y2_f, y3_f]]\n",
    "t, pv, df, expected = stats.chi2_contingency(tab, correction = False)\n",
    "print(\"t =\", t)\n",
    "print(\"p-value =\", pv)"
   ]
  },
  {
   "cell_type": "markdown",
   "metadata": {},
   "source": [
    "`Conclusion: Since the p-value < 0.01, we have strong evidence against H0 so I reject H0, meaning that the average FSR in three condition are different.`"
   ]
  }
 ],
 "metadata": {
  "kernelspec": {
   "display_name": "ml",
   "language": "python",
   "name": "python3"
  },
  "language_info": {
   "codemirror_mode": {
    "name": "ipython",
    "version": 3
   },
   "file_extension": ".py",
   "mimetype": "text/x-python",
   "name": "python",
   "nbconvert_exporter": "python",
   "pygments_lexer": "ipython3",
   "version": "3.11.5"
  }
 },
 "nbformat": 4,
 "nbformat_minor": 2
}
