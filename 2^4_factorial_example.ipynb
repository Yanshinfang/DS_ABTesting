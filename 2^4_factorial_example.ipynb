{
 "cells": [
  {
   "cell_type": "markdown",
   "id": "6f4dcd76",
   "metadata": {},
   "source": [
    "# $2^4$ Factorial Credit Card Example\n",
    "\n",
    "Import the necessary libraries"
   ]
  },
  {
   "cell_type": "code",
   "execution_count": 1,
   "id": "b92e49c9",
   "metadata": {},
   "outputs": [],
   "source": [
    "import os\n",
    "import pandas as pd\n",
    "import matplotlib.pyplot as plt\n",
    "import statsmodels.formula.api as smf\n",
    "from scipy import stats\n",
    "import seaborn as sns"
   ]
  },
  {
   "cell_type": "markdown",
   "id": "1cde8a90",
   "metadata": {},
   "source": [
    "Change the working directory"
   ]
  },
  {
   "cell_type": "code",
   "execution_count": 2,
   "id": "4a58bb5e",
   "metadata": {},
   "outputs": [],
   "source": [
    "os.chdir(\"/Users/nstevens/Dropbox/Teaching/MSDS_629/2023/Lectures/Lecture7\")"
   ]
  },
  {
   "cell_type": "markdown",
   "id": "6fb9d688",
   "metadata": {},
   "source": [
    "Read in the data and look at it"
   ]
  },
  {
   "cell_type": "code",
   "execution_count": 3,
   "id": "55e28727",
   "metadata": {},
   "outputs": [
    {
     "data": {
      "text/html": [
       "<div>\n",
       "<style scoped>\n",
       "    .dataframe tbody tr th:only-of-type {\n",
       "        vertical-align: middle;\n",
       "    }\n",
       "\n",
       "    .dataframe tbody tr th {\n",
       "        vertical-align: top;\n",
       "    }\n",
       "\n",
       "    .dataframe thead th {\n",
       "        text-align: right;\n",
       "    }\n",
       "</style>\n",
       "<table border=\"1\" class=\"dataframe\">\n",
       "  <thead>\n",
       "    <tr style=\"text-align: right;\">\n",
       "      <th></th>\n",
       "      <th>Cond</th>\n",
       "      <th>x1</th>\n",
       "      <th>x2</th>\n",
       "      <th>x3</th>\n",
       "      <th>x4</th>\n",
       "      <th>y</th>\n",
       "    </tr>\n",
       "  </thead>\n",
       "  <tbody>\n",
       "    <tr>\n",
       "      <th>0</th>\n",
       "      <td>1</td>\n",
       "      <td>-1</td>\n",
       "      <td>-1</td>\n",
       "      <td>-1</td>\n",
       "      <td>-1</td>\n",
       "      <td>0</td>\n",
       "    </tr>\n",
       "    <tr>\n",
       "      <th>1</th>\n",
       "      <td>1</td>\n",
       "      <td>-1</td>\n",
       "      <td>-1</td>\n",
       "      <td>-1</td>\n",
       "      <td>-1</td>\n",
       "      <td>0</td>\n",
       "    </tr>\n",
       "    <tr>\n",
       "      <th>2</th>\n",
       "      <td>1</td>\n",
       "      <td>-1</td>\n",
       "      <td>-1</td>\n",
       "      <td>-1</td>\n",
       "      <td>-1</td>\n",
       "      <td>0</td>\n",
       "    </tr>\n",
       "    <tr>\n",
       "      <th>3</th>\n",
       "      <td>1</td>\n",
       "      <td>-1</td>\n",
       "      <td>-1</td>\n",
       "      <td>-1</td>\n",
       "      <td>-1</td>\n",
       "      <td>0</td>\n",
       "    </tr>\n",
       "    <tr>\n",
       "      <th>4</th>\n",
       "      <td>1</td>\n",
       "      <td>-1</td>\n",
       "      <td>-1</td>\n",
       "      <td>-1</td>\n",
       "      <td>-1</td>\n",
       "      <td>0</td>\n",
       "    </tr>\n",
       "    <tr>\n",
       "      <th>5</th>\n",
       "      <td>1</td>\n",
       "      <td>-1</td>\n",
       "      <td>-1</td>\n",
       "      <td>-1</td>\n",
       "      <td>-1</td>\n",
       "      <td>0</td>\n",
       "    </tr>\n",
       "    <tr>\n",
       "      <th>6</th>\n",
       "      <td>1</td>\n",
       "      <td>-1</td>\n",
       "      <td>-1</td>\n",
       "      <td>-1</td>\n",
       "      <td>-1</td>\n",
       "      <td>0</td>\n",
       "    </tr>\n",
       "    <tr>\n",
       "      <th>7</th>\n",
       "      <td>1</td>\n",
       "      <td>-1</td>\n",
       "      <td>-1</td>\n",
       "      <td>-1</td>\n",
       "      <td>-1</td>\n",
       "      <td>0</td>\n",
       "    </tr>\n",
       "    <tr>\n",
       "      <th>8</th>\n",
       "      <td>1</td>\n",
       "      <td>-1</td>\n",
       "      <td>-1</td>\n",
       "      <td>-1</td>\n",
       "      <td>-1</td>\n",
       "      <td>0</td>\n",
       "    </tr>\n",
       "    <tr>\n",
       "      <th>9</th>\n",
       "      <td>1</td>\n",
       "      <td>-1</td>\n",
       "      <td>-1</td>\n",
       "      <td>-1</td>\n",
       "      <td>-1</td>\n",
       "      <td>0</td>\n",
       "    </tr>\n",
       "  </tbody>\n",
       "</table>\n",
       "</div>"
      ],
      "text/plain": [
       "   Cond  x1  x2  x3  x4  y\n",
       "0     1  -1  -1  -1  -1  0\n",
       "1     1  -1  -1  -1  -1  0\n",
       "2     1  -1  -1  -1  -1  0\n",
       "3     1  -1  -1  -1  -1  0\n",
       "4     1  -1  -1  -1  -1  0\n",
       "5     1  -1  -1  -1  -1  0\n",
       "6     1  -1  -1  -1  -1  0\n",
       "7     1  -1  -1  -1  -1  0\n",
       "8     1  -1  -1  -1  -1  0\n",
       "9     1  -1  -1  -1  -1  0"
      ]
     },
     "execution_count": 3,
     "metadata": {},
     "output_type": "execute_result"
    }
   ],
   "source": [
    "credit = pd.read_csv('creditcard.csv')\n",
    "credit.head(10)"
   ]
  },
  {
   "cell_type": "markdown",
   "id": "31794853",
   "metadata": {},
   "source": [
    "Compute the overall conversion rate."
   ]
  },
  {
   "cell_type": "code",
   "execution_count": 4,
   "id": "5a2aa6cc",
   "metadata": {},
   "outputs": [
    {
     "data": {
      "text/plain": [
       "0.023641666666666665"
      ]
     },
     "execution_count": 4,
     "metadata": {},
     "output_type": "execute_result"
    }
   ],
   "source": [
    "credit['y'].mean()"
   ]
  },
  {
   "cell_type": "markdown",
   "id": "002e9691",
   "metadata": {},
   "source": [
    "Compute the conversion rate in each condition."
   ]
  },
  {
   "cell_type": "code",
   "execution_count": 5,
   "id": "e2437cd0",
   "metadata": {},
   "outputs": [
    {
     "data": {
      "text/html": [
       "<div>\n",
       "<style scoped>\n",
       "    .dataframe tbody tr th:only-of-type {\n",
       "        vertical-align: middle;\n",
       "    }\n",
       "\n",
       "    .dataframe tbody tr th {\n",
       "        vertical-align: top;\n",
       "    }\n",
       "\n",
       "    .dataframe thead th {\n",
       "        text-align: right;\n",
       "    }\n",
       "</style>\n",
       "<table border=\"1\" class=\"dataframe\">\n",
       "  <thead>\n",
       "    <tr style=\"text-align: right;\">\n",
       "      <th></th>\n",
       "      <th>x1</th>\n",
       "      <th>x2</th>\n",
       "      <th>x3</th>\n",
       "      <th>x4</th>\n",
       "      <th>y</th>\n",
       "    </tr>\n",
       "    <tr>\n",
       "      <th>Cond</th>\n",
       "      <th></th>\n",
       "      <th></th>\n",
       "      <th></th>\n",
       "      <th></th>\n",
       "      <th></th>\n",
       "    </tr>\n",
       "  </thead>\n",
       "  <tbody>\n",
       "    <tr>\n",
       "      <th>1</th>\n",
       "      <td>-1.0</td>\n",
       "      <td>-1.0</td>\n",
       "      <td>-1.0</td>\n",
       "      <td>-1.0</td>\n",
       "      <td>0.024533</td>\n",
       "    </tr>\n",
       "    <tr>\n",
       "      <th>2</th>\n",
       "      <td>1.0</td>\n",
       "      <td>-1.0</td>\n",
       "      <td>-1.0</td>\n",
       "      <td>-1.0</td>\n",
       "      <td>0.033600</td>\n",
       "    </tr>\n",
       "    <tr>\n",
       "      <th>3</th>\n",
       "      <td>-1.0</td>\n",
       "      <td>1.0</td>\n",
       "      <td>-1.0</td>\n",
       "      <td>-1.0</td>\n",
       "      <td>0.021600</td>\n",
       "    </tr>\n",
       "    <tr>\n",
       "      <th>4</th>\n",
       "      <td>1.0</td>\n",
       "      <td>1.0</td>\n",
       "      <td>-1.0</td>\n",
       "      <td>-1.0</td>\n",
       "      <td>0.022933</td>\n",
       "    </tr>\n",
       "    <tr>\n",
       "      <th>5</th>\n",
       "      <td>-1.0</td>\n",
       "      <td>-1.0</td>\n",
       "      <td>1.0</td>\n",
       "      <td>-1.0</td>\n",
       "      <td>0.024933</td>\n",
       "    </tr>\n",
       "    <tr>\n",
       "      <th>6</th>\n",
       "      <td>1.0</td>\n",
       "      <td>-1.0</td>\n",
       "      <td>1.0</td>\n",
       "      <td>-1.0</td>\n",
       "      <td>0.033867</td>\n",
       "    </tr>\n",
       "    <tr>\n",
       "      <th>7</th>\n",
       "      <td>-1.0</td>\n",
       "      <td>1.0</td>\n",
       "      <td>1.0</td>\n",
       "      <td>-1.0</td>\n",
       "      <td>0.023200</td>\n",
       "    </tr>\n",
       "    <tr>\n",
       "      <th>8</th>\n",
       "      <td>1.0</td>\n",
       "      <td>1.0</td>\n",
       "      <td>1.0</td>\n",
       "      <td>-1.0</td>\n",
       "      <td>0.024400</td>\n",
       "    </tr>\n",
       "    <tr>\n",
       "      <th>9</th>\n",
       "      <td>-1.0</td>\n",
       "      <td>-1.0</td>\n",
       "      <td>-1.0</td>\n",
       "      <td>1.0</td>\n",
       "      <td>0.018400</td>\n",
       "    </tr>\n",
       "    <tr>\n",
       "      <th>10</th>\n",
       "      <td>1.0</td>\n",
       "      <td>-1.0</td>\n",
       "      <td>-1.0</td>\n",
       "      <td>1.0</td>\n",
       "      <td>0.022400</td>\n",
       "    </tr>\n",
       "    <tr>\n",
       "      <th>11</th>\n",
       "      <td>-1.0</td>\n",
       "      <td>1.0</td>\n",
       "      <td>-1.0</td>\n",
       "      <td>1.0</td>\n",
       "      <td>0.016933</td>\n",
       "    </tr>\n",
       "    <tr>\n",
       "      <th>12</th>\n",
       "      <td>1.0</td>\n",
       "      <td>1.0</td>\n",
       "      <td>-1.0</td>\n",
       "      <td>1.0</td>\n",
       "      <td>0.018667</td>\n",
       "    </tr>\n",
       "    <tr>\n",
       "      <th>13</th>\n",
       "      <td>-1.0</td>\n",
       "      <td>-1.0</td>\n",
       "      <td>1.0</td>\n",
       "      <td>1.0</td>\n",
       "      <td>0.022933</td>\n",
       "    </tr>\n",
       "    <tr>\n",
       "      <th>14</th>\n",
       "      <td>1.0</td>\n",
       "      <td>-1.0</td>\n",
       "      <td>1.0</td>\n",
       "      <td>1.0</td>\n",
       "      <td>0.029200</td>\n",
       "    </tr>\n",
       "    <tr>\n",
       "      <th>15</th>\n",
       "      <td>-1.0</td>\n",
       "      <td>1.0</td>\n",
       "      <td>1.0</td>\n",
       "      <td>1.0</td>\n",
       "      <td>0.020400</td>\n",
       "    </tr>\n",
       "    <tr>\n",
       "      <th>16</th>\n",
       "      <td>1.0</td>\n",
       "      <td>1.0</td>\n",
       "      <td>1.0</td>\n",
       "      <td>1.0</td>\n",
       "      <td>0.020267</td>\n",
       "    </tr>\n",
       "  </tbody>\n",
       "</table>\n",
       "</div>"
      ],
      "text/plain": [
       "       x1   x2   x3   x4         y\n",
       "Cond                              \n",
       "1    -1.0 -1.0 -1.0 -1.0  0.024533\n",
       "2     1.0 -1.0 -1.0 -1.0  0.033600\n",
       "3    -1.0  1.0 -1.0 -1.0  0.021600\n",
       "4     1.0  1.0 -1.0 -1.0  0.022933\n",
       "5    -1.0 -1.0  1.0 -1.0  0.024933\n",
       "6     1.0 -1.0  1.0 -1.0  0.033867\n",
       "7    -1.0  1.0  1.0 -1.0  0.023200\n",
       "8     1.0  1.0  1.0 -1.0  0.024400\n",
       "9    -1.0 -1.0 -1.0  1.0  0.018400\n",
       "10    1.0 -1.0 -1.0  1.0  0.022400\n",
       "11   -1.0  1.0 -1.0  1.0  0.016933\n",
       "12    1.0  1.0 -1.0  1.0  0.018667\n",
       "13   -1.0 -1.0  1.0  1.0  0.022933\n",
       "14    1.0 -1.0  1.0  1.0  0.029200\n",
       "15   -1.0  1.0  1.0  1.0  0.020400\n",
       "16    1.0  1.0  1.0  1.0  0.020267"
      ]
     },
     "execution_count": 5,
     "metadata": {},
     "output_type": "execute_result"
    }
   ],
   "source": [
    "credit.groupby(['Cond']).mean('y')"
   ]
  },
  {
   "cell_type": "markdown",
   "id": "f7ad860d",
   "metadata": {},
   "source": [
    "Fit the full model with all main effects and interaction terms"
   ]
  },
  {
   "cell_type": "code",
   "execution_count": 4,
   "id": "41f29844",
   "metadata": {},
   "outputs": [
    {
     "name": "stdout",
     "output_type": "stream",
     "text": [
      "Optimization terminated successfully.\n",
      "         Current function value: 0.111420\n",
      "         Iterations 8\n"
     ]
    },
    {
     "data": {
      "text/html": [
       "<table class=\"simpletable\">\n",
       "<caption>Logit Regression Results</caption>\n",
       "<tr>\n",
       "  <th>Dep. Variable:</th>           <td>y</td>        <th>  No. Observations:  </th>  <td>120000</td>  \n",
       "</tr>\n",
       "<tr>\n",
       "  <th>Model:</th>                 <td>Logit</td>      <th>  Df Residuals:      </th>  <td>119984</td>  \n",
       "</tr>\n",
       "<tr>\n",
       "  <th>Method:</th>                 <td>MLE</td>       <th>  Df Model:          </th>  <td>    15</td>  \n",
       "</tr>\n",
       "<tr>\n",
       "  <th>Date:</th>            <td>Tue, 17 Jan 2023</td> <th>  Pseudo R-squ.:     </th> <td>0.004214</td> \n",
       "</tr>\n",
       "<tr>\n",
       "  <th>Time:</th>                <td>12:56:49</td>     <th>  Log-Likelihood:    </th> <td> -13370.</td> \n",
       "</tr>\n",
       "<tr>\n",
       "  <th>converged:</th>             <td>True</td>       <th>  LL-Null:           </th> <td> -13427.</td> \n",
       "</tr>\n",
       "<tr>\n",
       "  <th>Covariance Type:</th>     <td>nonrobust</td>    <th>  LLR p-value:       </th> <td>3.962e-17</td>\n",
       "</tr>\n",
       "</table>\n",
       "<table class=\"simpletable\">\n",
       "<tr>\n",
       "       <td></td>          <th>coef</th>     <th>std err</th>      <th>z</th>      <th>P>|z|</th>  <th>[0.025</th>    <th>0.975]</th>  \n",
       "</tr>\n",
       "<tr>\n",
       "  <th>Intercept</th>   <td>   -3.7397</td> <td>    0.019</td> <td> -193.337</td> <td> 0.000</td> <td>   -3.778</td> <td>   -3.702</td>\n",
       "</tr>\n",
       "<tr>\n",
       "  <th>x1</th>          <td>    0.0808</td> <td>    0.019</td> <td>    4.180</td> <td> 0.000</td> <td>    0.043</td> <td>    0.119</td>\n",
       "</tr>\n",
       "<tr>\n",
       "  <th>x2</th>          <td>   -0.1062</td> <td>    0.019</td> <td>   -5.491</td> <td> 0.000</td> <td>   -0.144</td> <td>   -0.068</td>\n",
       "</tr>\n",
       "<tr>\n",
       "  <th>x1:x2</th>       <td>   -0.0552</td> <td>    0.019</td> <td>   -2.852</td> <td> 0.004</td> <td>   -0.093</td> <td>   -0.017</td>\n",
       "</tr>\n",
       "<tr>\n",
       "  <th>x3</th>          <td>    0.0582</td> <td>    0.019</td> <td>    3.011</td> <td> 0.003</td> <td>    0.020</td> <td>    0.096</td>\n",
       "</tr>\n",
       "<tr>\n",
       "  <th>x1:x3</th>       <td>   -0.0048</td> <td>    0.019</td> <td>   -0.248</td> <td> 0.804</td> <td>   -0.043</td> <td>    0.033</td>\n",
       "</tr>\n",
       "<tr>\n",
       "  <th>x2:x3</th>       <td>   -0.0070</td> <td>    0.019</td> <td>   -0.360</td> <td> 0.719</td> <td>   -0.045</td> <td>    0.031</td>\n",
       "</tr>\n",
       "<tr>\n",
       "  <th>x1:x2:x3</th>    <td>   -0.0096</td> <td>    0.019</td> <td>   -0.499</td> <td> 0.618</td> <td>   -0.048</td> <td>    0.028</td>\n",
       "</tr>\n",
       "<tr>\n",
       "  <th>x4</th>          <td>   -0.1081</td> <td>    0.019</td> <td>   -5.588</td> <td> 0.000</td> <td>   -0.146</td> <td>   -0.070</td>\n",
       "</tr>\n",
       "<tr>\n",
       "  <th>x1:x4</th>       <td>   -0.0132</td> <td>    0.019</td> <td>   -0.681</td> <td> 0.496</td> <td>   -0.051</td> <td>    0.025</td>\n",
       "</tr>\n",
       "<tr>\n",
       "  <th>x2:x4</th>       <td>    0.0106</td> <td>    0.019</td> <td>    0.549</td> <td> 0.583</td> <td>   -0.027</td> <td>    0.049</td>\n",
       "</tr>\n",
       "<tr>\n",
       "  <th>x1:x2:x4</th>    <td>    0.0106</td> <td>    0.019</td> <td>    0.549</td> <td> 0.583</td> <td>   -0.027</td> <td>    0.049</td>\n",
       "</tr>\n",
       "<tr>\n",
       "  <th>x3:x4</th>       <td>    0.0381</td> <td>    0.019</td> <td>    1.969</td> <td> 0.049</td> <td>    0.000</td> <td>    0.076</td>\n",
       "</tr>\n",
       "<tr>\n",
       "  <th>x1:x3:x4</th>    <td>   -0.0025</td> <td>    0.019</td> <td>   -0.131</td> <td> 0.895</td> <td>   -0.040</td> <td>    0.035</td>\n",
       "</tr>\n",
       "<tr>\n",
       "  <th>x2:x3:x4</th>    <td>   -0.0209</td> <td>    0.019</td> <td>   -1.083</td> <td> 0.279</td> <td>   -0.059</td> <td>    0.017</td>\n",
       "</tr>\n",
       "<tr>\n",
       "  <th>x1:x2:x3:x4</th> <td>   -0.0095</td> <td>    0.019</td> <td>   -0.491</td> <td> 0.623</td> <td>   -0.047</td> <td>    0.028</td>\n",
       "</tr>\n",
       "</table>"
      ],
      "text/plain": [
       "<class 'statsmodels.iolib.summary.Summary'>\n",
       "\"\"\"\n",
       "                           Logit Regression Results                           \n",
       "==============================================================================\n",
       "Dep. Variable:                      y   No. Observations:               120000\n",
       "Model:                          Logit   Df Residuals:                   119984\n",
       "Method:                           MLE   Df Model:                           15\n",
       "Date:                Tue, 17 Jan 2023   Pseudo R-squ.:                0.004214\n",
       "Time:                        12:56:49   Log-Likelihood:                -13370.\n",
       "converged:                       True   LL-Null:                       -13427.\n",
       "Covariance Type:            nonrobust   LLR p-value:                 3.962e-17\n",
       "===============================================================================\n",
       "                  coef    std err          z      P>|z|      [0.025      0.975]\n",
       "-------------------------------------------------------------------------------\n",
       "Intercept      -3.7397      0.019   -193.337      0.000      -3.778      -3.702\n",
       "x1              0.0808      0.019      4.180      0.000       0.043       0.119\n",
       "x2             -0.1062      0.019     -5.491      0.000      -0.144      -0.068\n",
       "x1:x2          -0.0552      0.019     -2.852      0.004      -0.093      -0.017\n",
       "x3              0.0582      0.019      3.011      0.003       0.020       0.096\n",
       "x1:x3          -0.0048      0.019     -0.248      0.804      -0.043       0.033\n",
       "x2:x3          -0.0070      0.019     -0.360      0.719      -0.045       0.031\n",
       "x1:x2:x3       -0.0096      0.019     -0.499      0.618      -0.048       0.028\n",
       "x4             -0.1081      0.019     -5.588      0.000      -0.146      -0.070\n",
       "x1:x4          -0.0132      0.019     -0.681      0.496      -0.051       0.025\n",
       "x2:x4           0.0106      0.019      0.549      0.583      -0.027       0.049\n",
       "x1:x2:x4        0.0106      0.019      0.549      0.583      -0.027       0.049\n",
       "x3:x4           0.0381      0.019      1.969      0.049       0.000       0.076\n",
       "x1:x3:x4       -0.0025      0.019     -0.131      0.895      -0.040       0.035\n",
       "x2:x3:x4       -0.0209      0.019     -1.083      0.279      -0.059       0.017\n",
       "x1:x2:x3:x4    -0.0095      0.019     -0.491      0.623      -0.047       0.028\n",
       "===============================================================================\n",
       "\"\"\""
      ]
     },
     "execution_count": 4,
     "metadata": {},
     "output_type": "execute_result"
    }
   ],
   "source": [
    "model = smf.logit('y ~ x1 * x2 * x3 * x4', data = credit).fit()\n",
    "model.summary()"
   ]
  },
  {
   "cell_type": "markdown",
   "id": "3d07197a",
   "metadata": {},
   "source": [
    "Fit a reduced model with just the main effects and interactions that appear to be significant"
   ]
  },
  {
   "cell_type": "code",
   "execution_count": 5,
   "id": "629d407c",
   "metadata": {},
   "outputs": [
    {
     "name": "stdout",
     "output_type": "stream",
     "text": [
      "Optimization terminated successfully.\n",
      "         Current function value: 0.111433\n",
      "         Iterations 8\n"
     ]
    },
    {
     "data": {
      "text/html": [
       "<table class=\"simpletable\">\n",
       "<caption>Logit Regression Results</caption>\n",
       "<tr>\n",
       "  <th>Dep. Variable:</th>           <td>y</td>        <th>  No. Observations:  </th>  <td>120000</td>  \n",
       "</tr>\n",
       "<tr>\n",
       "  <th>Model:</th>                 <td>Logit</td>      <th>  Df Residuals:      </th>  <td>119993</td>  \n",
       "</tr>\n",
       "<tr>\n",
       "  <th>Method:</th>                 <td>MLE</td>       <th>  Df Model:          </th>  <td>     6</td>  \n",
       "</tr>\n",
       "<tr>\n",
       "  <th>Date:</th>            <td>Tue, 17 Jan 2023</td> <th>  Pseudo R-squ.:     </th> <td>0.004105</td> \n",
       "</tr>\n",
       "<tr>\n",
       "  <th>Time:</th>                <td>12:56:53</td>     <th>  Log-Likelihood:    </th> <td> -13372.</td> \n",
       "</tr>\n",
       "<tr>\n",
       "  <th>converged:</th>             <td>True</td>       <th>  LL-Null:           </th> <td> -13427.</td> \n",
       "</tr>\n",
       "<tr>\n",
       "  <th>Covariance Type:</th>     <td>nonrobust</td>    <th>  LLR p-value:       </th> <td>1.811e-21</td>\n",
       "</tr>\n",
       "</table>\n",
       "<table class=\"simpletable\">\n",
       "<tr>\n",
       "      <td></td>         <th>coef</th>     <th>std err</th>      <th>z</th>      <th>P>|z|</th>  <th>[0.025</th>    <th>0.975]</th>  \n",
       "</tr>\n",
       "<tr>\n",
       "  <th>Intercept</th> <td>   -3.7396</td> <td>    0.019</td> <td> -193.306</td> <td> 0.000</td> <td>   -3.778</td> <td>   -3.702</td>\n",
       "</tr>\n",
       "<tr>\n",
       "  <th>x1</th>        <td>    0.0821</td> <td>    0.019</td> <td>    4.279</td> <td> 0.000</td> <td>    0.045</td> <td>    0.120</td>\n",
       "</tr>\n",
       "<tr>\n",
       "  <th>x2</th>        <td>   -0.1083</td> <td>    0.019</td> <td>   -5.644</td> <td> 0.000</td> <td>   -0.146</td> <td>   -0.071</td>\n",
       "</tr>\n",
       "<tr>\n",
       "  <th>x3</th>        <td>    0.0589</td> <td>    0.019</td> <td>    3.072</td> <td> 0.002</td> <td>    0.021</td> <td>    0.096</td>\n",
       "</tr>\n",
       "<tr>\n",
       "  <th>x4</th>        <td>   -0.1107</td> <td>    0.019</td> <td>   -5.777</td> <td> 0.000</td> <td>   -0.148</td> <td>   -0.073</td>\n",
       "</tr>\n",
       "<tr>\n",
       "  <th>x1:x2</th>     <td>   -0.0571</td> <td>    0.019</td> <td>   -2.972</td> <td> 0.003</td> <td>   -0.095</td> <td>   -0.019</td>\n",
       "</tr>\n",
       "<tr>\n",
       "  <th>x3:x4</th>     <td>    0.0405</td> <td>    0.019</td> <td>    2.114</td> <td> 0.034</td> <td>    0.003</td> <td>    0.078</td>\n",
       "</tr>\n",
       "</table>"
      ],
      "text/plain": [
       "<class 'statsmodels.iolib.summary.Summary'>\n",
       "\"\"\"\n",
       "                           Logit Regression Results                           \n",
       "==============================================================================\n",
       "Dep. Variable:                      y   No. Observations:               120000\n",
       "Model:                          Logit   Df Residuals:                   119993\n",
       "Method:                           MLE   Df Model:                            6\n",
       "Date:                Tue, 17 Jan 2023   Pseudo R-squ.:                0.004105\n",
       "Time:                        12:56:53   Log-Likelihood:                -13372.\n",
       "converged:                       True   LL-Null:                       -13427.\n",
       "Covariance Type:            nonrobust   LLR p-value:                 1.811e-21\n",
       "==============================================================================\n",
       "                 coef    std err          z      P>|z|      [0.025      0.975]\n",
       "------------------------------------------------------------------------------\n",
       "Intercept     -3.7396      0.019   -193.306      0.000      -3.778      -3.702\n",
       "x1             0.0821      0.019      4.279      0.000       0.045       0.120\n",
       "x2            -0.1083      0.019     -5.644      0.000      -0.146      -0.071\n",
       "x3             0.0589      0.019      3.072      0.002       0.021       0.096\n",
       "x4            -0.1107      0.019     -5.777      0.000      -0.148      -0.073\n",
       "x1:x2         -0.0571      0.019     -2.972      0.003      -0.095      -0.019\n",
       "x3:x4          0.0405      0.019      2.114      0.034       0.003       0.078\n",
       "==============================================================================\n",
       "\"\"\""
      ]
     },
     "execution_count": 5,
     "metadata": {},
     "output_type": "execute_result"
    }
   ],
   "source": [
    "model_red = smf.logit('y ~ x1 + x2 + x3 + x4 + x1:x2 + x3:x4', data = credit).fit()\n",
    "model_red.summary()"
   ]
  },
  {
   "cell_type": "markdown",
   "id": "32735f26",
   "metadata": {},
   "source": [
    "Let's check whether ths full model fits significantly better than the reduced. We do so with a likelihood ratio test of $$H_0:\\beta_{13}=\\beta_{14}=\\beta_{23}=\\beta_{24}=\\beta_{123}=\\beta_{124}=\\beta_{134}=\\beta_{234}=\\beta_{1234}=0$$"
   ]
  },
  {
   "cell_type": "code",
   "execution_count": 8,
   "id": "addf7c5a",
   "metadata": {},
   "outputs": [
    {
     "name": "stdout",
     "output_type": "stream",
     "text": [
      "t =  2.924363569054549\n",
      "p-value =  0.9672182496406062\n"
     ]
    }
   ],
   "source": [
    "t = 2 * (model.llf - model_red.llf)\n",
    "pv = stats.chi2.sf(t, df = 9)\n",
    "print(\"t = \", t)\n",
    "print(\"p-value = \", pv)"
   ]
  },
  {
   "cell_type": "markdown",
   "id": "a4bec025",
   "metadata": {},
   "source": [
    "Thus we conclude that the main effects of each factor are significant and so also are the _annual fee by opening fee_ (`x1:x2`) and _initial and long-term interest rate_ (`x3:x4`) interactions. Let us next look at main and interaction effect plots for additional insight into these findings."
   ]
  },
  {
   "cell_type": "code",
   "execution_count": 9,
   "id": "b699b256",
   "metadata": {},
   "outputs": [
    {
     "data": {
      "text/plain": [
       "(0.01, 0.04)"
      ]
     },
     "execution_count": 9,
     "metadata": {},
     "output_type": "execute_result"
    },
    {
     "data": {
      "image/png": "[encoded data removed]",
      "text/plain": [
       "<Figure size 432x288 with 1 Axes>"
      ]
     },
     "metadata": {},
     "output_type": "display_data"
    }
   ],
   "source": [
    "# Main effect of Annual Fee (x1)\n",
    "sns.set_theme(style=\"darkgrid\")\n",
    "fig1 = sns.pointplot(x=\"x1\", y=\"y\", data=credit)\n",
    "fig1.set_ylabel(\"Conversion Rate\")\n",
    "fig1.set_xlabel(\"Annual Fee (x1)\")\n",
    "fig1.set_ylim(0.01, 0.04)"
   ]
  },
  {
   "cell_type": "code",
   "execution_count": 10,
   "id": "d9657796",
   "metadata": {},
   "outputs": [
    {
     "data": {
      "text/plain": [
       "(0.01, 0.04)"
      ]
     },
     "execution_count": 10,
     "metadata": {},
     "output_type": "execute_result"
    },
    {
     "data": {
      "image/png": "[encoded data removed]",
      "text/plain": [
       "<Figure size 432x288 with 1 Axes>"
      ]
     },
     "metadata": {},
     "output_type": "display_data"
    }
   ],
   "source": [
    "# Main effect of Account-opening Fee (x2)\n",
    "fig2 = sns.pointplot(x=\"x2\", y=\"y\", data=credit)\n",
    "fig2.set_ylabel(\"Conversion Rate\")\n",
    "fig2.set_xlabel(\"Account-opening Fee (x2)\")\n",
    "fig2.set_ylim(0.01, 0.04)"
   ]
  },
  {
   "cell_type": "code",
   "execution_count": 11,
   "id": "c1c483ee",
   "metadata": {},
   "outputs": [
    {
     "data": {
      "text/plain": [
       "(0.01, 0.04)"
      ]
     },
     "execution_count": 11,
     "metadata": {},
     "output_type": "execute_result"
    },
    {
     "data": {
      "image/png": "[encoded data removed]",
      "text/plain": [
       "<Figure size 432x288 with 1 Axes>"
      ]
     },
     "metadata": {},
     "output_type": "display_data"
    }
   ],
   "source": [
    "# Main effect of Initial Interest Rate (x3)\n",
    "fig3 = sns.pointplot(x=\"x3\", y=\"y\", data=credit)\n",
    "fig3.set_ylabel(\"Conversion Rate\")\n",
    "fig3.set_xlabel(\"Initial Interest Rate (x3)\")\n",
    "fig3.set_ylim(0.01, 0.04)"
   ]
  },
  {
   "cell_type": "code",
   "execution_count": 12,
   "id": "8c13a6e0",
   "metadata": {},
   "outputs": [
    {
     "data": {
      "text/plain": [
       "(0.01, 0.04)"
      ]
     },
     "execution_count": 12,
     "metadata": {},
     "output_type": "execute_result"
    },
    {
     "data": {
      "image/png": "[encoded data removed]",
      "text/plain": [
       "<Figure size 432x288 with 1 Axes>"
      ]
     },
     "metadata": {},
     "output_type": "display_data"
    }
   ],
   "source": [
    "# Main effect of Long-term Interest Rate (x4)\n",
    "fig4 = sns.pointplot(x=\"x4\", y=\"y\", data=credit)\n",
    "fig4.set_ylabel(\"Conversion Rate\")\n",
    "fig4.set_xlabel(\"Long-term Interest Rate (x4)\")\n",
    "fig4.set_ylim(0.01, 0.04)"
   ]
  },
  {
   "cell_type": "code",
   "execution_count": 13,
   "id": "c8d15cee",
   "metadata": {},
   "outputs": [
    {
     "data": {
      "text/plain": [
       "(0.01, 0.04)"
      ]
     },
     "execution_count": 13,
     "metadata": {},
     "output_type": "execute_result"
    },
    {
     "data": {
      "image/png": "[encoded data removed]",
      "text/plain": [
       "<Figure size 432x288 with 1 Axes>"
      ]
     },
     "metadata": {},
     "output_type": "display_data"
    }
   ],
   "source": [
    "# Interaction between x1 and x2\n",
    "sns.set_theme(style=\"darkgrid\")\n",
    "fig12 = sns.pointplot(x=\"x1\", hue=\"x2\", y=\"y\", data=credit)\n",
    "fig12.set_ylabel(\"Conversion Rate\")\n",
    "fig12.set_xlabel(\"Annual Fee (x1)\")\n",
    "fig12.set_ylim(0.01, 0.04)"
   ]
  },
  {
   "cell_type": "code",
   "execution_count": 14,
   "id": "1c075cfa",
   "metadata": {},
   "outputs": [
    {
     "data": {
      "text/plain": [
       "(0.01, 0.04)"
      ]
     },
     "execution_count": 14,
     "metadata": {},
     "output_type": "execute_result"
    },
    {
     "data": {
      "image/png": "[encoded data removed]",
      "text/plain": [
       "<Figure size 432x288 with 1 Axes>"
      ]
     },
     "metadata": {},
     "output_type": "display_data"
    }
   ],
   "source": [
    "# Interaction between x3 and x4\n",
    "sns.set_theme(style=\"darkgrid\")\n",
    "fig34 = sns.pointplot(x=\"x3\", hue=\"x4\", y=\"y\", data=credit)\n",
    "fig34.set_ylabel(\"Conversion Rate\")\n",
    "fig34.set_xlabel(\"Initial Interest Rate (x3)\")\n",
    "fig34.set_ylim(0.01, 0.04)"
   ]
  }
 ],
 "metadata": {
  "kernelspec": {
   "display_name": "Python 3",
   "language": "python",
   "name": "python3"
  },
  "language_info": {
   "codemirror_mode": {
    "name": "ipython",
    "version": 3
   },
   "file_extension": ".py",
   "mimetype": "text/x-python",
   "name": "python",
   "nbconvert_exporter": "python",
   "pygments_lexer": "ipython3",
   "version": "3.8.8"
  }
 },
 "nbformat": 4,
 "nbformat_minor": 5
}
