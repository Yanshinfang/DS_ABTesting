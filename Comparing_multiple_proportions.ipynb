{
 "cells": [
  {
   "cell_type": "markdown",
   "id": "d91f5224",
   "metadata": {},
   "source": [
    "# Comparing Multiple Proportions with the Chi-Squared Test"
   ]
  },
  {
   "cell_type": "markdown",
   "id": "f18e7fc7",
   "metadata": {},
   "source": [
    "Import necessary libraries."
   ]
  },
  {
   "cell_type": "code",
   "execution_count": 2,
   "id": "9d03d888",
   "metadata": {},
   "outputs": [],
   "source": [
    "from scipy import stats\n",
    "import numpy as np"
   ]
  },
  {
   "cell_type": "markdown",
   "id": "5c8ae750",
   "metadata": {},
   "source": [
    "## Optimizely Example\n",
    "\n",
    "The observed number of conversions in condition 1 was 280 and in condition 2 it was 399. These conditions respectively contained $n_1$ = 8872 and $n_2$ = 8642 experimental units. This is all the information we need to perform the chi-squared test in Python. We don't need the raw data itself, just these summaries. We will do so with the `chi2_contingency` function from `scipy.stats`.\n",
    "\n",
    "For illustration we test $$H_0:\\pi_1=\\pi_2 \\text{ vs. }H_A:\\pi_1\\neq\\pi_2$$"
   ]
  },
  {
   "cell_type": "code",
   "execution_count": 4,
   "id": "4e4ee1e3",
   "metadata": {},
   "outputs": [
    {
     "name": "stdout",
     "output_type": "stream",
     "text": [
      "t = 25.074540269210264\n",
      "p-value = 5.515630872662502e-07\n"
     ]
    }
   ],
   "source": [
    "tab = [[280, 399], [8592, 8243]]\n",
    "t, pv, df, expected = stats.chi2_contingency(tab, correction = False)\n",
    "print(\"t =\", t)\n",
    "print(\"p-value =\", pv)"
   ]
  },
  {
   "cell_type": "markdown",
   "id": "2972f88f",
   "metadata": {},
   "source": [
    "Note that this test statistic and p-value are identical to those determined by the Z-test for proportions we did last day. This is not a coincidence. The Z-test for proportions and two-sample chi-squared tests are statistically equivalent.\n",
    "\n",
    "Note also that we could have done this test statistic and p-value calculation manually:"
   ]
  },
  {
   "cell_type": "code",
   "execution_count": 5,
   "id": "e3782c33",
   "metadata": {},
   "outputs": [
    {
     "name": "stdout",
     "output_type": "stream",
     "text": [
      "t = 25.074540269210242\n",
      "p-value = 5.515630872662567e-07\n"
     ]
    }
   ],
   "source": [
    "O = [280, 399, 8592, 8243]\n",
    "n1 = 8872\n",
    "n2 = 8642\n",
    "pihat = (280 + 399) / (n1 + n2)\n",
    "E = np.multiply([n1, n2, n1, n2], [pihat, pihat, 1-pihat, 1-pihat])\n",
    "t = sum((O-E)**2 / E)\n",
    "print(\"t =\", t)\n",
    "pv = stats.chi2.sf(t, df = 1)\n",
    "print(\"p-value =\", pv)"
   ]
  },
  {
   "cell_type": "markdown",
   "id": "22bfef52",
   "metadata": {},
   "source": [
    "## Nike SB Example"
   ]
  },
  {
   "cell_type": "markdown",
   "id": "d166cb8a",
   "metadata": {},
   "source": [
    "The observed number of views in conditions 1 to 5 were respectively, 160, 95, 141, 293, \n",
    "and 199. These conditions contained $n_1$ = 5014, $n_2$ = 4971, $n_3$ = 5030, $n_4$ = 5007, and $n_5$ = 4980 experimental units. Using this and only this information we can now perform \n",
    "the chi-squared test in Python. We do so in a manner analogous to the two-sample version."
   ]
  },
  {
   "cell_type": "code",
   "execution_count": 4,
   "id": "b738fd1b",
   "metadata": {},
   "outputs": [
    {
     "name": "stdout",
     "output_type": "stream",
     "text": [
      "t = 129.16856308361378\n",
      "p-value = 5.864117639139824e-27\n"
     ]
    }
   ],
   "source": [
    "tab = [[160, 95, 141, 293, 197], [4854, 4876, 4889, 4714, 4783]]\n",
    "t, pv, df, expected = stats.chi2_contingency(tab, correction = False)\n",
    "print(\"t =\", t)\n",
    "print(\"p-value =\", pv)"
   ]
  },
  {
   "cell_type": "markdown",
   "id": "8d56d57a",
   "metadata": {},
   "source": [
    "Note that we can also extract the expected (as opposed to observed) contingency table:"
   ]
  },
  {
   "cell_type": "code",
   "execution_count": 5,
   "id": "f8ab38c1",
   "metadata": {},
   "outputs": [
    {
     "name": "stdout",
     "output_type": "stream",
     "text": [
      "Expected Contingency Table: \n",
      " [[ 177.68194544  176.15814735  178.24894008  177.43388529  176.47708183]\n",
      " [4836.31805456 4794.84185265 4851.75105992 4829.56611471 4803.52291817]]\n"
     ]
    }
   ],
   "source": [
    "print(\"Expected Contingency Table: \\n\", expected)"
   ]
  },
  {
   "cell_type": "code",
   "execution_count": null,
   "metadata": {},
   "outputs": [],
   "source": []
  }
 ],
 "metadata": {
  "kernelspec": {
   "display_name": "Python 3",
   "language": "python",
   "name": "python3"
  },
  "language_info": {
   "codemirror_mode": {
    "name": "ipython",
    "version": 3
   },
   "file_extension": ".py",
   "mimetype": "text/x-python",
   "name": "python",
   "nbconvert_exporter": "python",
   "pygments_lexer": "ipython3",
   "version": "3.8.8"
  }
 },
 "nbformat": 4,
 "nbformat_minor": 5
}
