{
 "cells": [
  {
   "cell_type": "markdown",
   "id": "6f4dcd76",
   "metadata": {},
   "source": [
    "# TinyCo Factorial Example\n",
    "\n",
    "Import the necessary libraries"
   ]
  },
  {
   "cell_type": "code",
   "execution_count": 1,
   "id": "b92e49c9",
   "metadata": {},
   "outputs": [],
   "source": [
    "import os\n",
    "import pandas as pd\n",
    "import matplotlib.pyplot as plt\n",
    "import statsmodels.formula.api as smf\n",
    "from scipy import stats"
   ]
  },
  {
   "cell_type": "markdown",
   "id": "1cde8a90",
   "metadata": {},
   "source": [
    "Change the working directory"
   ]
  },
  {
   "cell_type": "code",
   "execution_count": 2,
   "id": "4a58bb5e",
   "metadata": {},
   "outputs": [],
   "source": [
    "os.chdir(\"/Users/nstevens/Dropbox/Teaching/MSDS_629/2023/Lectures/Lecture7\")"
   ]
  },
  {
   "cell_type": "markdown",
   "id": "6fb9d688",
   "metadata": {},
   "source": [
    "Read in the data and look at it"
   ]
  },
  {
   "cell_type": "code",
   "execution_count": 3,
   "id": "55e28727",
   "metadata": {},
   "outputs": [
    {
     "data": {
      "text/html": [
       "<div>\n",
       "<style scoped>\n",
       "    .dataframe tbody tr th:only-of-type {\n",
       "        vertical-align: middle;\n",
       "    }\n",
       "\n",
       "    .dataframe tbody tr th {\n",
       "        vertical-align: top;\n",
       "    }\n",
       "\n",
       "    .dataframe thead th {\n",
       "        text-align: right;\n",
       "    }\n",
       "</style>\n",
       "<table border=\"1\" class=\"dataframe\">\n",
       "  <thead>\n",
       "    <tr style=\"text-align: right;\">\n",
       "      <th></th>\n",
       "      <th>y</th>\n",
       "      <th>colour</th>\n",
       "      <th>price</th>\n",
       "    </tr>\n",
       "  </thead>\n",
       "  <tbody>\n",
       "    <tr>\n",
       "      <th>0</th>\n",
       "      <td>0</td>\n",
       "      <td>y</td>\n",
       "      <td>10USD</td>\n",
       "    </tr>\n",
       "    <tr>\n",
       "      <th>1</th>\n",
       "      <td>0</td>\n",
       "      <td>y</td>\n",
       "      <td>10USD</td>\n",
       "    </tr>\n",
       "    <tr>\n",
       "      <th>2</th>\n",
       "      <td>0</td>\n",
       "      <td>y</td>\n",
       "      <td>10USD</td>\n",
       "    </tr>\n",
       "    <tr>\n",
       "      <th>3</th>\n",
       "      <td>0</td>\n",
       "      <td>y</td>\n",
       "      <td>10USD</td>\n",
       "    </tr>\n",
       "    <tr>\n",
       "      <th>4</th>\n",
       "      <td>0</td>\n",
       "      <td>y</td>\n",
       "      <td>10USD</td>\n",
       "    </tr>\n",
       "    <tr>\n",
       "      <th>5</th>\n",
       "      <td>0</td>\n",
       "      <td>y</td>\n",
       "      <td>10USD</td>\n",
       "    </tr>\n",
       "    <tr>\n",
       "      <th>6</th>\n",
       "      <td>0</td>\n",
       "      <td>y</td>\n",
       "      <td>10USD</td>\n",
       "    </tr>\n",
       "    <tr>\n",
       "      <th>7</th>\n",
       "      <td>0</td>\n",
       "      <td>y</td>\n",
       "      <td>10USD</td>\n",
       "    </tr>\n",
       "    <tr>\n",
       "      <th>8</th>\n",
       "      <td>0</td>\n",
       "      <td>y</td>\n",
       "      <td>10USD</td>\n",
       "    </tr>\n",
       "    <tr>\n",
       "      <th>9</th>\n",
       "      <td>0</td>\n",
       "      <td>y</td>\n",
       "      <td>10USD</td>\n",
       "    </tr>\n",
       "  </tbody>\n",
       "</table>\n",
       "</div>"
      ],
      "text/plain": [
       "   y colour  price\n",
       "0  0      y  10USD\n",
       "1  0      y  10USD\n",
       "2  0      y  10USD\n",
       "3  0      y  10USD\n",
       "4  0      y  10USD\n",
       "5  0      y  10USD\n",
       "6  0      y  10USD\n",
       "7  0      y  10USD\n",
       "8  0      y  10USD\n",
       "9  0      y  10USD"
      ]
     },
     "execution_count": 3,
     "metadata": {},
     "output_type": "execute_result"
    }
   ],
   "source": [
    "tinyco = pd.read_csv('bananimal.csv')\n",
    "tinyco.head(10)"
   ]
  },
  {
   "cell_type": "code",
   "execution_count": 4,
   "id": "ed7eaa94",
   "metadata": {},
   "outputs": [
    {
     "data": {
      "text/html": [
       "<div>\n",
       "<style scoped>\n",
       "    .dataframe tbody tr th:only-of-type {\n",
       "        vertical-align: middle;\n",
       "    }\n",
       "\n",
       "    .dataframe tbody tr th {\n",
       "        vertical-align: top;\n",
       "    }\n",
       "\n",
       "    .dataframe thead th {\n",
       "        text-align: right;\n",
       "    }\n",
       "</style>\n",
       "<table border=\"1\" class=\"dataframe\">\n",
       "  <thead>\n",
       "    <tr style=\"text-align: right;\">\n",
       "      <th></th>\n",
       "      <th>y</th>\n",
       "      <th>colour</th>\n",
       "      <th>price</th>\n",
       "    </tr>\n",
       "  </thead>\n",
       "  <tbody>\n",
       "    <tr>\n",
       "      <th>count</th>\n",
       "      <td>2958.000000</td>\n",
       "      <td>2958</td>\n",
       "      <td>2958</td>\n",
       "    </tr>\n",
       "    <tr>\n",
       "      <th>unique</th>\n",
       "      <td>NaN</td>\n",
       "      <td>2</td>\n",
       "      <td>3</td>\n",
       "    </tr>\n",
       "    <tr>\n",
       "      <th>top</th>\n",
       "      <td>NaN</td>\n",
       "      <td>g</td>\n",
       "      <td>10USD</td>\n",
       "    </tr>\n",
       "    <tr>\n",
       "      <th>freq</th>\n",
       "      <td>NaN</td>\n",
       "      <td>1487</td>\n",
       "      <td>1000</td>\n",
       "    </tr>\n",
       "    <tr>\n",
       "      <th>mean</th>\n",
       "      <td>0.155172</td>\n",
       "      <td>NaN</td>\n",
       "      <td>NaN</td>\n",
       "    </tr>\n",
       "    <tr>\n",
       "      <th>std</th>\n",
       "      <td>0.362130</td>\n",
       "      <td>NaN</td>\n",
       "      <td>NaN</td>\n",
       "    </tr>\n",
       "    <tr>\n",
       "      <th>min</th>\n",
       "      <td>0.000000</td>\n",
       "      <td>NaN</td>\n",
       "      <td>NaN</td>\n",
       "    </tr>\n",
       "    <tr>\n",
       "      <th>25%</th>\n",
       "      <td>0.000000</td>\n",
       "      <td>NaN</td>\n",
       "      <td>NaN</td>\n",
       "    </tr>\n",
       "    <tr>\n",
       "      <th>50%</th>\n",
       "      <td>0.000000</td>\n",
       "      <td>NaN</td>\n",
       "      <td>NaN</td>\n",
       "    </tr>\n",
       "    <tr>\n",
       "      <th>75%</th>\n",
       "      <td>0.000000</td>\n",
       "      <td>NaN</td>\n",
       "      <td>NaN</td>\n",
       "    </tr>\n",
       "    <tr>\n",
       "      <th>max</th>\n",
       "      <td>1.000000</td>\n",
       "      <td>NaN</td>\n",
       "      <td>NaN</td>\n",
       "    </tr>\n",
       "  </tbody>\n",
       "</table>\n",
       "</div>"
      ],
      "text/plain": [
       "                  y colour  price\n",
       "count   2958.000000   2958   2958\n",
       "unique          NaN      2      3\n",
       "top             NaN      g  10USD\n",
       "freq            NaN   1487   1000\n",
       "mean       0.155172    NaN    NaN\n",
       "std        0.362130    NaN    NaN\n",
       "min        0.000000    NaN    NaN\n",
       "25%        0.000000    NaN    NaN\n",
       "50%        0.000000    NaN    NaN\n",
       "75%        0.000000    NaN    NaN\n",
       "max        1.000000    NaN    NaN"
      ]
     },
     "execution_count": 4,
     "metadata": {},
     "output_type": "execute_result"
    }
   ],
   "source": [
    "tinyco.describe(include = 'all')"
   ]
  },
  {
   "cell_type": "markdown",
   "id": "31794853",
   "metadata": {},
   "source": [
    "Compute the overall purchase rate."
   ]
  },
  {
   "cell_type": "code",
   "execution_count": 5,
   "id": "5a2aa6cc",
   "metadata": {},
   "outputs": [
    {
     "data": {
      "text/plain": [
       "0.15517241379310345"
      ]
     },
     "execution_count": 5,
     "metadata": {},
     "output_type": "execute_result"
    }
   ],
   "source": [
    "tinyco['y'].mean()"
   ]
  },
  {
   "cell_type": "markdown",
   "id": "002e9691",
   "metadata": {},
   "source": [
    "Compute the purchase rate by colour."
   ]
  },
  {
   "cell_type": "code",
   "execution_count": 6,
   "id": "6dd17172",
   "metadata": {},
   "outputs": [
    {
     "data": {
      "text/html": [
       "<div>\n",
       "<style scoped>\n",
       "    .dataframe tbody tr th:only-of-type {\n",
       "        vertical-align: middle;\n",
       "    }\n",
       "\n",
       "    .dataframe tbody tr th {\n",
       "        vertical-align: top;\n",
       "    }\n",
       "\n",
       "    .dataframe thead th {\n",
       "        text-align: right;\n",
       "    }\n",
       "</style>\n",
       "<table border=\"1\" class=\"dataframe\">\n",
       "  <thead>\n",
       "    <tr style=\"text-align: right;\">\n",
       "      <th></th>\n",
       "      <th>y</th>\n",
       "    </tr>\n",
       "    <tr>\n",
       "      <th>colour</th>\n",
       "      <th></th>\n",
       "    </tr>\n",
       "  </thead>\n",
       "  <tbody>\n",
       "    <tr>\n",
       "      <th>g</th>\n",
       "      <td>0.203093</td>\n",
       "    </tr>\n",
       "    <tr>\n",
       "      <th>y</th>\n",
       "      <td>0.106730</td>\n",
       "    </tr>\n",
       "  </tbody>\n",
       "</table>\n",
       "</div>"
      ],
      "text/plain": [
       "               y\n",
       "colour          \n",
       "g       0.203093\n",
       "y       0.106730"
      ]
     },
     "execution_count": 6,
     "metadata": {},
     "output_type": "execute_result"
    }
   ],
   "source": [
    "tinyco.groupby('colour').mean('y')"
   ]
  },
  {
   "cell_type": "markdown",
   "id": "ab010fa3",
   "metadata": {},
   "source": [
    "Compute the purchase rate by price."
   ]
  },
  {
   "cell_type": "code",
   "execution_count": 7,
   "id": "7adccb5f",
   "metadata": {},
   "outputs": [
    {
     "data": {
      "text/html": [
       "<div>\n",
       "<style scoped>\n",
       "    .dataframe tbody tr th:only-of-type {\n",
       "        vertical-align: middle;\n",
       "    }\n",
       "\n",
       "    .dataframe tbody tr th {\n",
       "        vertical-align: top;\n",
       "    }\n",
       "\n",
       "    .dataframe thead th {\n",
       "        text-align: right;\n",
       "    }\n",
       "</style>\n",
       "<table border=\"1\" class=\"dataframe\">\n",
       "  <thead>\n",
       "    <tr style=\"text-align: right;\">\n",
       "      <th></th>\n",
       "      <th>y</th>\n",
       "    </tr>\n",
       "    <tr>\n",
       "      <th>price</th>\n",
       "      <th></th>\n",
       "    </tr>\n",
       "  </thead>\n",
       "  <tbody>\n",
       "    <tr>\n",
       "      <th>10USD</th>\n",
       "      <td>0.199000</td>\n",
       "    </tr>\n",
       "    <tr>\n",
       "      <th>20USD</th>\n",
       "      <td>0.141404</td>\n",
       "    </tr>\n",
       "    <tr>\n",
       "      <th>30USD</th>\n",
       "      <td>0.124103</td>\n",
       "    </tr>\n",
       "  </tbody>\n",
       "</table>\n",
       "</div>"
      ],
      "text/plain": [
       "              y\n",
       "price          \n",
       "10USD  0.199000\n",
       "20USD  0.141404\n",
       "30USD  0.124103"
      ]
     },
     "execution_count": 7,
     "metadata": {},
     "output_type": "execute_result"
    }
   ],
   "source": [
    "tinyco.groupby('price').mean('y')"
   ]
  },
  {
   "cell_type": "markdown",
   "id": "780a0217",
   "metadata": {},
   "source": [
    "Compute the purchase rate by colour by price."
   ]
  },
  {
   "cell_type": "code",
   "execution_count": 8,
   "id": "e2437cd0",
   "metadata": {},
   "outputs": [
    {
     "data": {
      "text/html": [
       "<div>\n",
       "<style scoped>\n",
       "    .dataframe tbody tr th:only-of-type {\n",
       "        vertical-align: middle;\n",
       "    }\n",
       "\n",
       "    .dataframe tbody tr th {\n",
       "        vertical-align: top;\n",
       "    }\n",
       "\n",
       "    .dataframe thead th {\n",
       "        text-align: right;\n",
       "    }\n",
       "</style>\n",
       "<table border=\"1\" class=\"dataframe\">\n",
       "  <thead>\n",
       "    <tr style=\"text-align: right;\">\n",
       "      <th></th>\n",
       "      <th></th>\n",
       "      <th>y</th>\n",
       "    </tr>\n",
       "    <tr>\n",
       "      <th>colour</th>\n",
       "      <th>price</th>\n",
       "      <th></th>\n",
       "    </tr>\n",
       "  </thead>\n",
       "  <tbody>\n",
       "    <tr>\n",
       "      <th rowspan=\"3\" valign=\"top\">g</th>\n",
       "      <th>10USD</th>\n",
       "      <td>0.226000</td>\n",
       "    </tr>\n",
       "    <tr>\n",
       "      <th>20USD</th>\n",
       "      <td>0.184000</td>\n",
       "    </tr>\n",
       "    <tr>\n",
       "      <th>30USD</th>\n",
       "      <td>0.199179</td>\n",
       "    </tr>\n",
       "    <tr>\n",
       "      <th rowspan=\"3\" valign=\"top\">y</th>\n",
       "      <th>10USD</th>\n",
       "      <td>0.172000</td>\n",
       "    </tr>\n",
       "    <tr>\n",
       "      <th>20USD</th>\n",
       "      <td>0.097308</td>\n",
       "    </tr>\n",
       "    <tr>\n",
       "      <th>30USD</th>\n",
       "      <td>0.049180</td>\n",
       "    </tr>\n",
       "  </tbody>\n",
       "</table>\n",
       "</div>"
      ],
      "text/plain": [
       "                     y\n",
       "colour price          \n",
       "g      10USD  0.226000\n",
       "       20USD  0.184000\n",
       "       30USD  0.199179\n",
       "y      10USD  0.172000\n",
       "       20USD  0.097308\n",
       "       30USD  0.049180"
      ]
     },
     "execution_count": 8,
     "metadata": {},
     "output_type": "execute_result"
    }
   ],
   "source": [
    "tinyco.groupby(['colour','price']).mean()"
   ]
  },
  {
   "cell_type": "markdown",
   "id": "5d3371ec",
   "metadata": {},
   "source": [
    "Let's look at the main and interaction effect plots for colour."
   ]
  },
  {
   "cell_type": "code",
   "execution_count": 9,
   "id": "c1c483ee",
   "metadata": {},
   "outputs": [
    {
     "data": {
      "image/png": "[encoded data removed]",
      "text/plain": [
       "<Figure size 432x288 with 1 Axes>"
      ]
     },
     "metadata": {
      "needs_background": "light"
     },
     "output_type": "display_data"
    }
   ],
   "source": [
    "# Main effect for colour\n",
    "y = tinyco.groupby(['colour']).get_group('y').mean()\n",
    "g = tinyco.groupby(['colour']).get_group('g').mean()\n",
    "plt.figure()\n",
    "plt.scatter(x = [1,2], y = [y,g], c = \"black\")\n",
    "plt.ylim(0,0.3)\n",
    "plt.ylabel(\"Purchase Rate\")\n",
    "plt.xlabel(\"Colour\")\n",
    "plt.title(\"Main Effect of Colour\")\n",
    "plt.xticks(ticks = [1,2], labels = ['Yellow', \"Gold\"])\n",
    "plt.plot([1,2], [y,g], c = \"black\")\n",
    "plt.show()"
   ]
  },
  {
   "cell_type": "code",
   "execution_count": 10,
   "id": "b606e0f4",
   "metadata": {},
   "outputs": [
    {
     "data": {
      "image/png": "[encoded data removed]",
      "text/plain": [
       "<Figure size 432x288 with 1 Axes>"
      ]
     },
     "metadata": {
      "needs_background": "light"
     },
     "output_type": "display_data"
    }
   ],
   "source": [
    "# Interaction effect for colour by price\n",
    "y10 = tinyco.groupby(['colour','price']).get_group(('y','10USD')).mean()\n",
    "y20 = tinyco.groupby(['colour','price']).get_group(('y','20USD')).mean()\n",
    "y30 = tinyco.groupby(['colour','price']).get_group(('y','30USD')).mean()\n",
    "g10 = tinyco.groupby(['colour','price']).get_group(('g','10USD')).mean()\n",
    "g20 = tinyco.groupby(['colour','price']).get_group(('g','20USD')).mean()\n",
    "g30 = tinyco.groupby(['colour','price']).get_group(('g','30USD')).mean()\n",
    "plt.figure()\n",
    "plt.scatter(x = [1,1,1,2,2,2], y = [y10,y20,y30,g10,g20,g30], c = \"black\")\n",
    "plt.ylim(0,0.3)\n",
    "plt.ylabel(\"Purchase Rate\")\n",
    "plt.xlabel(\"Colour\")\n",
    "plt.title(\"Colour-by-Price Interaction\")\n",
    "plt.xticks(ticks = [1,2], labels = ['Yellow', \"Gold\"])\n",
    "l10, = plt.plot([1,2], [y10,g10], c = \"black\", linestyle = \"dashed\", label = \"$10\")\n",
    "l20, = plt.plot([1,2],[y20,g20], c = \"black\", linestyle = \"dotted\", label = \"$20\")\n",
    "l30, = plt.plot([1,2],[y30,g30], c = \"black\", linestyle = \"dashdot\", label = \"$30\")\n",
    "plt.legend(handles = [l10, l20, l30], loc = \"upper left\")\n",
    "plt.show()"
   ]
  },
  {
   "cell_type": "markdown",
   "id": "6536d2f3",
   "metadata": {},
   "source": [
    "Now let's look at the main and interection effect plots for price."
   ]
  },
  {
   "cell_type": "code",
   "execution_count": 11,
   "id": "45d6c5aa",
   "metadata": {},
   "outputs": [
    {
     "data": {
      "image/png": "[encoded data removed]",
      "text/plain": [
       "<Figure size 432x288 with 1 Axes>"
      ]
     },
     "metadata": {
      "needs_background": "light"
     },
     "output_type": "display_data"
    }
   ],
   "source": [
    "# Main effect for price\n",
    "p10 = tinyco.groupby(['price']).get_group('10USD').mean()\n",
    "p20 = tinyco.groupby(['price']).get_group('20USD').mean()\n",
    "p30 = tinyco.groupby(['price']).get_group('30USD').mean() \n",
    "plt.figure()\n",
    "plt.scatter(x = [1,2,3], y = [p10,p20,p30], c = \"black\")\n",
    "plt.ylim(0,0.3)\n",
    "plt.ylabel(\"Purchase Rate\")\n",
    "plt.xlabel(\"Price\")\n",
    "plt.title(\"Main Effect of Price\")\n",
    "plt.xticks(ticks = [1,2,3], labels = ['$10', '$20', '$30'])\n",
    "plt.plot([1,2,3], [p10,p20,p30], c = \"black\")\n",
    "plt.show()"
   ]
  },
  {
   "cell_type": "code",
   "execution_count": 12,
   "id": "fff8ea6f",
   "metadata": {},
   "outputs": [
    {
     "data": {
      "image/png": "[encoded data removed]",
      "text/plain": [
       "<Figure size 432x288 with 1 Axes>"
      ]
     },
     "metadata": {
      "needs_background": "light"
     },
     "output_type": "display_data"
    }
   ],
   "source": [
    "# Interaction effect for price by colour\n",
    "plt.figure()\n",
    "plt.scatter(x = [1,1,2,2,3,3], y = [y10,g10,y20,g20,y30,g30], c = \"black\")\n",
    "plt.ylim(0,0.3)\n",
    "plt.ylabel(\"Purchase Rate\")\n",
    "plt.xlabel(\"Price\")\n",
    "plt.title(\"Price-by-Colour Interaction\")\n",
    "plt.xticks(ticks = [1,2,3], labels = ['$10', '$20', '$30'])\n",
    "ly, = plt.plot([1,2,3], [y10,y20,y30], c = \"black\", linestyle = \"dotted\", label = \"Yellow\")\n",
    "lg, = plt.plot([1,2,3], [g10,g20,g30], c = \"black\", linestyle = \"dashed\", label = \"Gold\")\n",
    "plt.legend(handles = [ly, lg], loc = \"upper right\")\n",
    "plt.show()"
   ]
  },
  {
   "cell_type": "markdown",
   "id": "6c0f5c30",
   "metadata": {},
   "source": [
    "From the main effect plots, we saw that the main effects of both factors appeared to be significant. Let's check that formally with likelihood ratio tests. We begin by fitting the main effect model with linear predictor: $$\\beta_0+\\beta_1x_1+\\beta_2x_2+\\beta_3x_3$$\n",
    "where $x_1$ indicates gold bananimals, $x_2$ indicates \\\\$20 bananimals, and $x_3$ indicates \\\\$30 bananimals."
   ]
  },
  {
   "cell_type": "code",
   "execution_count": 9,
   "id": "b88ae9d8",
   "metadata": {},
   "outputs": [
    {
     "name": "stdout",
     "output_type": "stream",
     "text": [
      "Optimization terminated successfully.\n",
      "         Current function value: 0.418646\n",
      "         Iterations 6\n"
     ]
    },
    {
     "data": {
      "text/html": [
       "<table class=\"simpletable\">\n",
       "<caption>Logit Regression Results</caption>\n",
       "<tr>\n",
       "  <th>Dep. Variable:</th>           <td>y</td>        <th>  No. Observations:  </th>  <td>  2958</td>  \n",
       "</tr>\n",
       "<tr>\n",
       "  <th>Model:</th>                 <td>Logit</td>      <th>  Df Residuals:      </th>  <td>  2954</td>  \n",
       "</tr>\n",
       "<tr>\n",
       "  <th>Method:</th>                 <td>MLE</td>       <th>  Df Model:          </th>  <td>     3</td>  \n",
       "</tr>\n",
       "<tr>\n",
       "  <th>Date:</th>            <td>Tue, 17 Jan 2023</td> <th>  Pseudo R-squ.:     </th>  <td>0.02996</td> \n",
       "</tr>\n",
       "<tr>\n",
       "  <th>Time:</th>                <td>11:05:03</td>     <th>  Log-Likelihood:    </th> <td> -1238.4</td> \n",
       "</tr>\n",
       "<tr>\n",
       "  <th>converged:</th>             <td>True</td>       <th>  LL-Null:           </th> <td> -1276.6</td> \n",
       "</tr>\n",
       "<tr>\n",
       "  <th>Covariance Type:</th>     <td>nonrobust</td>    <th>  LLR p-value:       </th> <td>1.728e-16</td>\n",
       "</tr>\n",
       "</table>\n",
       "<table class=\"simpletable\">\n",
       "<tr>\n",
       "          <td></td>             <th>coef</th>     <th>std err</th>      <th>z</th>      <th>P>|z|</th>  <th>[0.025</th>    <th>0.975]</th>  \n",
       "</tr>\n",
       "<tr>\n",
       "  <th>Intercept</th>         <td>   -1.0541</td> <td>    0.090</td> <td>  -11.709</td> <td> 0.000</td> <td>   -1.231</td> <td>   -0.878</td>\n",
       "</tr>\n",
       "<tr>\n",
       "  <th>C(colour)[T.y]</th>    <td>   -0.7648</td> <td>    0.107</td> <td>   -7.169</td> <td> 0.000</td> <td>   -0.974</td> <td>   -0.556</td>\n",
       "</tr>\n",
       "<tr>\n",
       "  <th>C(price)[T.20USD]</th> <td>   -0.4258</td> <td>    0.122</td> <td>   -3.483</td> <td> 0.000</td> <td>   -0.665</td> <td>   -0.186</td>\n",
       "</tr>\n",
       "<tr>\n",
       "  <th>C(price)[T.30USD]</th> <td>   -0.5717</td> <td>    0.126</td> <td>   -4.520</td> <td> 0.000</td> <td>   -0.820</td> <td>   -0.324</td>\n",
       "</tr>\n",
       "</table>"
      ],
      "text/plain": [
       "<class 'statsmodels.iolib.summary.Summary'>\n",
       "\"\"\"\n",
       "                           Logit Regression Results                           \n",
       "==============================================================================\n",
       "Dep. Variable:                      y   No. Observations:                 2958\n",
       "Model:                          Logit   Df Residuals:                     2954\n",
       "Method:                           MLE   Df Model:                            3\n",
       "Date:                Tue, 17 Jan 2023   Pseudo R-squ.:                 0.02996\n",
       "Time:                        11:05:03   Log-Likelihood:                -1238.4\n",
       "converged:                       True   LL-Null:                       -1276.6\n",
       "Covariance Type:            nonrobust   LLR p-value:                 1.728e-16\n",
       "=====================================================================================\n",
       "                        coef    std err          z      P>|z|      [0.025      0.975]\n",
       "-------------------------------------------------------------------------------------\n",
       "Intercept            -1.0541      0.090    -11.709      0.000      -1.231      -0.878\n",
       "C(colour)[T.y]       -0.7648      0.107     -7.169      0.000      -0.974      -0.556\n",
       "C(price)[T.20USD]    -0.4258      0.122     -3.483      0.000      -0.665      -0.186\n",
       "C(price)[T.30USD]    -0.5717      0.126     -4.520      0.000      -0.820      -0.324\n",
       "=====================================================================================\n",
       "\"\"\""
      ]
     },
     "execution_count": 9,
     "metadata": {},
     "output_type": "execute_result"
    }
   ],
   "source": [
    "main = smf.logit('y ~ C(colour) + C(price)', data = tinyco).fit()\n",
    "main.summary()"
   ]
  },
  {
   "cell_type": "markdown",
   "id": "1013c5bd",
   "metadata": {},
   "source": [
    "Next let us test the significsnce of `colour` on purchase rate. We do this by testing $$H_0:\\beta_1=0$$ in the context of the main effect model."
   ]
  },
  {
   "cell_type": "code",
   "execution_count": 8,
   "id": "fe9311a0",
   "metadata": {},
   "outputs": [
    {
     "name": "stdout",
     "output_type": "stream",
     "text": [
      "Optimization terminated successfully.\n",
      "         Current function value: 0.427733\n",
      "         Iterations 6\n",
      "t =  53.756572921679435\n",
      "p-value =  2.2693372544868576e-13\n"
     ]
    }
   ],
   "source": [
    "red1 = smf.logit('y ~ C(price)', data = tinyco).fit()\n",
    "t = 2 * (main.llf - red1.llf)\n",
    "pv = stats.chi2.sf(t, df = 1)\n",
    "print(\"t = \", t)\n",
    "print(\"p-value = \", pv)"
   ]
  },
  {
   "cell_type": "markdown",
   "id": "3b95d39b",
   "metadata": {},
   "source": [
    "This is a very small p-value, providing evidence to suggest that `colour` significantly influences purchase rate. Next let us test the significsnce of `price` on purchase rate. We do this by testing $$H_0:\\beta_2=\\beta_3=0$$ in the context of the main effect model."
   ]
  },
  {
   "cell_type": "code",
   "execution_count": 10,
   "id": "7c6b01ac",
   "metadata": {},
   "outputs": [
    {
     "name": "stdout",
     "output_type": "stream",
     "text": [
      "Optimization terminated successfully.\n",
      "         Current function value: 0.422589\n",
      "         Iterations 6\n",
      "t =  23.324168419699163\n",
      "p-value =  8.614323560689286e-06\n"
     ]
    }
   ],
   "source": [
    "red2 = smf.logit('y ~ C(colour)', data = tinyco).fit()\n",
    "t = 2 * (main.llf - red2.llf)\n",
    "pv = stats.chi2.sf(t, df = 2)\n",
    "print(\"t = \", t)\n",
    "print(\"p-value = \", pv)"
   ]
  },
  {
   "cell_type": "markdown",
   "id": "edb09fa4",
   "metadata": {},
   "source": [
    "This is a very small p-value, providing evidence to suggest that `price` significantly influences purchase rate. \n",
    "\n",
    "While both main effects are significant, the interaction plots suggested the presence of interaction between these two factors. We should confirm this formally; if the factors do interact, we should be careful to interpret the main effect of each factor only in the context of the levels of the other.\n",
    "\n",
    "We conduct this hypothesis by fitting the full model (with both main effect and interaction effect terms), and then comparing it to the main effect model by way of a likelihood ratio test. The linear predictor for the full model is: $$\\beta_0+\\beta_1x_1+\\beta_2x_2+\\beta_3x_3+\\beta_4x_1x_2+\\beta_5x_1x_3$$ were $x_1, x_2, x_3$ are as defined above. Thus the hypothesis we are testing here is $$H_0:\\beta_4=\\beta_5=0$$ The results of the LRT are shown below."
   ]
  },
  {
   "cell_type": "code",
   "execution_count": 14,
   "id": "eceb63f8",
   "metadata": {},
   "outputs": [
    {
     "name": "stdout",
     "output_type": "stream",
     "text": [
      "Optimization terminated successfully.\n",
      "         Current function value: 0.415279\n",
      "         Iterations 7\n",
      "t =  19.917574887924275\n",
      "p-value =  4.7310067386476044e-05\n"
     ]
    }
   ],
   "source": [
    "full = smf.logit('y ~ C(colour) * C(price)', data = tinyco).fit()\n",
    "t = 2 * (full.llf - main.llf)\n",
    "pv = stats.chi2.sf(t, df = 2)\n",
    "print(\"t = \", t)\n",
    "print(\"p-value = \", pv)"
   ]
  },
  {
   "cell_type": "markdown",
   "id": "734af191",
   "metadata": {},
   "source": [
    "This very small p-value indicates that the interaction between `price` and `colour` is indeed statistically significant and should therefore not be ignored when interpreting main effects."
   ]
  }
 ],
 "metadata": {
  "kernelspec": {
   "display_name": "Python 3",
   "language": "python",
   "name": "python3"
  },
  "language_info": {
   "codemirror_mode": {
    "name": "ipython",
    "version": 3
   },
   "file_extension": ".py",
   "mimetype": "text/x-python",
   "name": "python",
   "nbconvert_exporter": "python",
   "pygments_lexer": "ipython3",
   "version": "3.8.8"
  }
 },
 "nbformat": 4,
 "nbformat_minor": 5
}
