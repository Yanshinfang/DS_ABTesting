{
 "cells": [
  {
   "cell_type": "markdown",
   "id": "4a0dfb69",
   "metadata": {},
   "source": [
    "# Code and an Example for the Randomization Test"
   ]
  },
  {
   "cell_type": "markdown",
   "id": "5338effb",
   "metadata": {},
   "source": [
    "Import necessary libraries"
   ]
  },
  {
   "cell_type": "code",
   "execution_count": 1,
   "id": "aa886834",
   "metadata": {},
   "outputs": [],
   "source": [
    "import os\n",
    "import pandas as pd\n",
    "import matplotlib.pyplot as plt\n",
    "import numpy as np\n",
    "from scipy import stats"
   ]
  },
  {
   "cell_type": "code",
   "execution_count": 2,
   "id": "a33b97d6",
   "metadata": {},
   "outputs": [],
   "source": [
    "def rand_test(x, y, N, alternative, moi):\n",
    "    n1, n2 = len(x), len(y)\n",
    "    if moi == \"mean\":\n",
    "        t = np.mean(x) - np.mean(y)\n",
    "    elif moi == \"median\":\n",
    "        t = np.median(x) - np.median(y)\n",
    "    comb = np.concatenate([x, y])\n",
    "    c = 0\n",
    "    for i in range(N):\n",
    "        np.random.shuffle(comb)\n",
    "        x_star = comb[0:n1]\n",
    "        y_star = comb[n1:(n1+n2)]\n",
    "        if moi == \"mean\":\n",
    "            t_star = np.mean(x_star) - np.mean(y_star)\n",
    "        elif moi == \"median\":\n",
    "            t_star = np.median(x_star) - np.median(y_star)\n",
    "        if alternative == \"two.sided\":\n",
    "            c += t_star >= np.abs(t) or t_star <= -np.abs(t)\n",
    "        elif alternative == \"greater\":\n",
    "            c += t_star >= t\n",
    "        elif alternative == \"less\":\n",
    "            c += t_star <= t\n",
    "    pv = c / N\n",
    "    return t, pv"
   ]
  },
  {
   "cell_type": "markdown",
   "id": "808e5957",
   "metadata": {},
   "source": [
    "Change working directory"
   ]
  },
  {
   "cell_type": "code",
   "execution_count": 3,
   "id": "3eb6e2cb",
   "metadata": {},
   "outputs": [],
   "source": [
    "os.chdir(\"/Users/nstevens/Dropbox/Teaching/MSDS_629/2023/Lectures/Lecture3\")"
   ]
  },
  {
   "cell_type": "markdown",
   "id": "20e8df07",
   "metadata": {},
   "source": [
    "Read in the data"
   ]
  },
  {
   "cell_type": "code",
   "execution_count": 4,
   "id": "02f715ec",
   "metadata": {},
   "outputs": [
    {
     "data": {
      "text/html": [
       "<div>\n",
       "<style scoped>\n",
       "    .dataframe tbody tr th:only-of-type {\n",
       "        vertical-align: middle;\n",
       "    }\n",
       "\n",
       "    .dataframe tbody tr th {\n",
       "        vertical-align: top;\n",
       "    }\n",
       "\n",
       "    .dataframe thead th {\n",
       "        text-align: right;\n",
       "    }\n",
       "</style>\n",
       "<table border=\"1\" class=\"dataframe\">\n",
       "  <thead>\n",
       "    <tr style=\"text-align: right;\">\n",
       "      <th></th>\n",
       "      <th>control</th>\n",
       "      <th>freecoins</th>\n",
       "      <th>discount</th>\n",
       "    </tr>\n",
       "  </thead>\n",
       "  <tbody>\n",
       "    <tr>\n",
       "      <th>0</th>\n",
       "      <td>12</td>\n",
       "      <td>23</td>\n",
       "      <td>22</td>\n",
       "    </tr>\n",
       "    <tr>\n",
       "      <th>1</th>\n",
       "      <td>7</td>\n",
       "      <td>9</td>\n",
       "      <td>3</td>\n",
       "    </tr>\n",
       "    <tr>\n",
       "      <th>2</th>\n",
       "      <td>12</td>\n",
       "      <td>11</td>\n",
       "      <td>20</td>\n",
       "    </tr>\n",
       "    <tr>\n",
       "      <th>3</th>\n",
       "      <td>4</td>\n",
       "      <td>1</td>\n",
       "      <td>3</td>\n",
       "    </tr>\n",
       "    <tr>\n",
       "      <th>4</th>\n",
       "      <td>8</td>\n",
       "      <td>19</td>\n",
       "      <td>3</td>\n",
       "    </tr>\n",
       "    <tr>\n",
       "      <th>5</th>\n",
       "      <td>6</td>\n",
       "      <td>16</td>\n",
       "      <td>36</td>\n",
       "    </tr>\n",
       "    <tr>\n",
       "      <th>6</th>\n",
       "      <td>1</td>\n",
       "      <td>10</td>\n",
       "      <td>4</td>\n",
       "    </tr>\n",
       "    <tr>\n",
       "      <th>7</th>\n",
       "      <td>20</td>\n",
       "      <td>9</td>\n",
       "      <td>4</td>\n",
       "    </tr>\n",
       "    <tr>\n",
       "      <th>8</th>\n",
       "      <td>7</td>\n",
       "      <td>10</td>\n",
       "      <td>6</td>\n",
       "    </tr>\n",
       "    <tr>\n",
       "      <th>9</th>\n",
       "      <td>18</td>\n",
       "      <td>3</td>\n",
       "      <td>20</td>\n",
       "    </tr>\n",
       "  </tbody>\n",
       "</table>\n",
       "</div>"
      ],
      "text/plain": [
       "   control  freecoins  discount\n",
       "0       12         23        22\n",
       "1        7          9         3\n",
       "2       12         11        20\n",
       "3        4          1         3\n",
       "4        8         19         3\n",
       "5        6         16        36\n",
       "6        1         10         4\n",
       "7       20          9         4\n",
       "8        7         10         6\n",
       "9       18          3        20"
      ]
     },
     "execution_count": 4,
     "metadata": {},
     "output_type": "execute_result"
    }
   ],
   "source": [
    "pokemon = pd.read_csv('pokemongo.csv')\n",
    "pokemon.head(10)"
   ]
  },
  {
   "cell_type": "markdown",
   "id": "8034bd2e",
   "metadata": {},
   "source": [
    "Visualize the data"
   ]
  },
  {
   "cell_type": "code",
   "execution_count": 5,
   "id": "cc3e0128",
   "metadata": {},
   "outputs": [
    {
     "data": {
      "text/plain": [
       "<matplotlib.collections.LineCollection at 0x7f8c6ee92ac0>"
      ]
     },
     "execution_count": 5,
     "metadata": {},
     "output_type": "execute_result"
    },
    {
     "data": {
      "image/png": "[encoded data removed]",
      "text/plain": [
       "<Figure size 432x288 with 1 Axes>"
      ]
     },
     "metadata": {
      "needs_background": "light"
     },
     "output_type": "display_data"
    },
    {
     "data": {
      "image/png": "[encoded data removed]",
      "text/plain": [
       "<Figure size 432x288 with 1 Axes>"
      ]
     },
     "metadata": {
      "needs_background": "light"
     },
     "output_type": "display_data"
    },
    {
     "data": {
      "image/png": "[encoded data removed]",
      "text/plain": [
       "<Figure size 432x288 with 1 Axes>"
      ]
     },
     "metadata": {
      "needs_background": "light"
     },
     "output_type": "display_data"
    }
   ],
   "source": [
    "plt.figure()\n",
    "plt.hist(pokemon[\"control\"], color = \"white\", edgecolor = \"black\", bins = np.linspace(start=0, stop=50, num=11))\n",
    "plt.xlim(0,50)\n",
    "plt.xlabel(\"Dollars Spent\")\n",
    "plt.ylabel(\"Frequency\")\n",
    "plt.title(\"Control Condition\")\n",
    "plt.vlines(x = np.mean(pokemon[\"control\"]), ymin = 0, ymax = 35, color = \"red\", linewidth = 2)\n",
    "plt.vlines(x = np.median(pokemon[\"control\"]), ymin = 0, ymax = 35, color = \"green\", linewidth = 2)\n",
    "plt.figure()\n",
    "plt.hist(pokemon[\"freecoins\"], color = \"white\", edgecolor = \"black\", bins = np.linspace(start=0, stop=50, num=11))\n",
    "plt.xlim(0,50)\n",
    "plt.xlabel(\"Dollars Spent\")\n",
    "plt.ylabel(\"Frequency\")\n",
    "plt.title(\"Free Coin Condition\")\n",
    "plt.vlines(x = np.mean(pokemon[\"freecoins\"]), ymin = 0, ymax = 40, color = \"red\", linewidth = 2)\n",
    "plt.vlines(x = np.median(pokemon[\"freecoins\"]), ymin = 0, ymax = 40, color = \"green\", linewidth = 2)\n",
    "plt.figure()\n",
    "plt.hist(pokemon[\"discount\"], color = \"white\", edgecolor = \"black\", bins = np.linspace(start=0, stop=50, num=11))\n",
    "plt.xlim(0,50)\n",
    "plt.xlabel(\"Dollars Spent\")\n",
    "plt.ylabel(\"Frequency\")\n",
    "plt.title(\"Discount Condition\")\n",
    "plt.vlines(x = np.mean(pokemon[\"discount\"]), ymin = 0, ymax = 30, color = \"red\", linewidth = 2)\n",
    "plt.vlines(x = np.median(pokemon[\"discount\"]), ymin = 0, ymax = 30, color = \"green\", linewidth = 2)"
   ]
  },
  {
   "cell_type": "markdown",
   "id": "d896ddfb",
   "metadata": {},
   "source": [
    "Let us now compare these three conditions in a pairwise fashion, assuming the MOI is a mean. We begin by comparing the control and free coin conditions.\n",
    "\n",
    "$$H_0:\\mu_1=\\mu_2 \\text{ vs. }H_A:\\mu_1\\neq\\mu_2$$"
   ]
  },
  {
   "cell_type": "code",
   "execution_count": 11,
   "id": "65134cf5",
   "metadata": {},
   "outputs": [
    {
     "name": "stdout",
     "output_type": "stream",
     "text": [
      "t = 1.2100000000000009\n",
      "p-value = 0.1751\n"
     ]
    }
   ],
   "source": [
    "t, pv = rand_test(x = pokemon[\"control\"], y = pokemon[\"freecoins\"], \n",
    "                  N = 10000, alternative = \"two.sided\", moi = \"mean\")\n",
    "print(\"t =\", t)\n",
    "print(\"p-value =\", pv)"
   ]
  },
  {
   "cell_type": "markdown",
   "id": "27eb1cd6",
   "metadata": {},
   "source": [
    "With a p-value this large we do not have sufficient evidence to reject the null and so we conclude that the average dollars spent is similar in control and free coin condition. Next let us compare the control and discount conditions.\n",
    "\n",
    "$$H_0:\\mu_1=\\mu_3 \\text{ vs. }H_A:\\mu_1\\neq\\mu_3$$"
   ]
  },
  {
   "cell_type": "code",
   "execution_count": 14,
   "id": "2c4c953c",
   "metadata": {},
   "outputs": [
    {
     "name": "stdout",
     "output_type": "stream",
     "text": [
      "t = -2.67\n",
      "p-value = 0.0259\n"
     ]
    }
   ],
   "source": [
    "t, pv = rand_test(x = pokemon[\"control\"], y = pokemon[\"discount\"], \n",
    "                  N = 10000, alternative = \"two.sided\", moi = \"mean\")\n",
    "print(\"t =\", t)\n",
    "print(\"p-value =\", pv)"
   ]
  },
  {
   "cell_type": "markdown",
   "id": "9f0b464e",
   "metadata": {},
   "source": [
    "This small p-value provides evidence against the null and so reject it and conclude that the average dollars spent is significantly different between the two conditions. We follow-up with a one-sided test to determine whether the discount condition is associated with a significantly _larger_ average dollars spent. \n",
    "\n",
    "$$H_0:\\mu_1\\geq\\mu_3 \\text{ vs. }H_A:\\mu_1<\\mu_3$$"
   ]
  },
  {
   "cell_type": "code",
   "execution_count": 18,
   "id": "8ea42b8a",
   "metadata": {},
   "outputs": [
    {
     "name": "stdout",
     "output_type": "stream",
     "text": [
      "t = -2.67\n",
      "p-value = 0.0154\n"
     ]
    }
   ],
   "source": [
    "t, pv = rand_test(x = pokemon[\"control\"], y = pokemon[\"discount\"], \n",
    "                  N = 10000, alternative = \"less\", moi = \"mean\")\n",
    "print(\"t =\", t)\n",
    "print(\"p-value =\", pv)"
   ]
  },
  {
   "cell_type": "markdown",
   "id": "0e3fdbda",
   "metadata": {},
   "source": [
    "This small p-value suggests that this is indeed the case. Finally we compare the free coin and discount conditions. \n",
    "\n",
    "$$H_0:\\mu_2=\\mu_3 \\text{ vs. }H_A:\\mu_2\\neq\\mu_3$$"
   ]
  },
  {
   "cell_type": "code",
   "execution_count": 24,
   "id": "867d3698",
   "metadata": {},
   "outputs": [
    {
     "name": "stdout",
     "output_type": "stream",
     "text": [
      "t = -3.880000000000001\n",
      "p-value = 0.0012\n"
     ]
    }
   ],
   "source": [
    "t, pv = rand_test(x = pokemon[\"freecoins\"], y = pokemon[\"discount\"], \n",
    "                  N = 10000, alternative = \"two.sided\", moi = \"mean\")\n",
    "print(\"t =\", t)\n",
    "print(\"p-value =\", pv)"
   ]
  },
  {
   "cell_type": "markdown",
   "id": "72bcc0d2",
   "metadata": {},
   "source": [
    "This small p-value provides evidence against the null and so reject it and conclude that the average dollars spent is significantly different between the two conditions. We follow-up with a one-sided test to determine whether the discount condition is associated with a significantly _larger_ average dollars spent. \n",
    "\n",
    "$$H_0:\\mu_2\\geq\\mu_3 \\text{ vs. }H_A:\\mu_2<\\mu_3$$"
   ]
  },
  {
   "cell_type": "code",
   "execution_count": 26,
   "id": "90c737c5",
   "metadata": {},
   "outputs": [
    {
     "name": "stdout",
     "output_type": "stream",
     "text": [
      "t = -3.880000000000001\n",
      "p-value = 0.0005\n"
     ]
    }
   ],
   "source": [
    "t, pv = rand_test(x = pokemon[\"freecoins\"], y = pokemon[\"discount\"], \n",
    "                  N = 10000, alternative = \"less\", moi = \"mean\")\n",
    "print(\"t =\", t)\n",
    "print(\"p-value =\", pv)"
   ]
  },
  {
   "cell_type": "markdown",
   "id": "d497a841",
   "metadata": {},
   "source": [
    "This small p-value suggests that this is indeed the case. \n",
    "\n",
    "Next let us make similar comparisons but on the basis of medians.\n",
    "\n",
    "$$H_0:Q_1(0.5)=Q_2(0.5) \\text{ vs. }H_A:Q_1(0.5)\\neq Q_2(0.5)$$"
   ]
  },
  {
   "cell_type": "code",
   "execution_count": 27,
   "id": "d5832071",
   "metadata": {},
   "outputs": [
    {
     "name": "stdout",
     "output_type": "stream",
     "text": [
      "t = 1.0\n",
      "p-value = 0.5781\n"
     ]
    }
   ],
   "source": [
    "t, pv = rand_test(x = pokemon[\"control\"], y = pokemon[\"freecoins\"], \n",
    "                  N = 10000, alternative = \"two.sided\", moi = \"median\")\n",
    "print(\"t =\", t)\n",
    "print(\"p-value =\", pv)"
   ]
  },
  {
   "cell_type": "markdown",
   "id": "4668403a",
   "metadata": {},
   "source": [
    "This large p-value suggests the control and free coin conditions do not differ significantly with respect to median dollars spent. Next let us compare the discount and control conditions.\n",
    "\n",
    "$$H_0:Q_1(0.5)=Q_3(0.5) \\text{ vs. }H_A:Q_1(0.5)\\neq Q_3(0.5)$$"
   ]
  },
  {
   "cell_type": "code",
   "execution_count": 28,
   "id": "9b7c00a9",
   "metadata": {},
   "outputs": [
    {
     "name": "stdout",
     "output_type": "stream",
     "text": [
      "t = -1.0\n",
      "p-value = 0.7828\n"
     ]
    }
   ],
   "source": [
    "t, pv = rand_test(x = pokemon[\"control\"], y = pokemon[\"discount\"], \n",
    "                  N = 10000, alternative = \"two.sided\", moi = \"median\")\n",
    "print(\"t =\", t)\n",
    "print(\"p-value =\", pv)"
   ]
  },
  {
   "cell_type": "markdown",
   "id": "42846e27",
   "metadata": {},
   "source": [
    "This large p-value suggests the control and discount conditions do not differ significantly with respect to median dollars spent. Next let us compare the discount and free coin conditions.\n",
    "\n",
    "$$H_0:Q_2(0.5)=Q_3(0.5) \\text{ vs. }H_A:Q_2(0.5)\\neq Q_3(0.5)$$"
   ]
  },
  {
   "cell_type": "code",
   "execution_count": 29,
   "id": "b86b36a0",
   "metadata": {},
   "outputs": [
    {
     "name": "stdout",
     "output_type": "stream",
     "text": [
      "t = -2.0\n",
      "p-value = 0.2475\n"
     ]
    }
   ],
   "source": [
    "t, pv = rand_test(x = pokemon[\"freecoins\"], y = pokemon[\"discount\"], \n",
    "                  N = 10000, alternative = \"two.sided\", moi = \"median\")\n",
    "print(\"t =\", t)\n",
    "print(\"p-value =\", pv)"
   ]
  },
  {
   "cell_type": "markdown",
   "id": "84355a1f",
   "metadata": {},
   "source": [
    "This large p-value suggests the free coin and discount conditions do not differ significantly with respect to median dollars spent."
   ]
  },
  {
   "cell_type": "code",
   "execution_count": 8,
   "id": "7a305388",
   "metadata": {},
   "outputs": [
    {
     "data": {
      "text/plain": [
       "7.814727903251179"
      ]
     },
     "execution_count": 8,
     "metadata": {},
     "output_type": "execute_result"
    }
   ],
   "source": [
    "stats.chi2.ppf(0.95, df = 3)"
   ]
  }
 ],
 "metadata": {
  "kernelspec": {
   "display_name": "Python 3",
   "language": "python",
   "name": "python3"
  },
  "language_info": {
   "codemirror_mode": {
    "name": "ipython",
    "version": 3
   },
   "file_extension": ".py",
   "mimetype": "text/x-python",
   "name": "python",
   "nbconvert_exporter": "python",
   "pygments_lexer": "ipython3",
   "version": "3.11.5"
  }
 },
 "nbformat": 4,
 "nbformat_minor": 5
}
