{
 "cells": [
  {
   "cell_type": "code",
   "execution_count": 1,
   "metadata": {},
   "outputs": [],
   "source": [
    "import pandas as pd\n",
    "import matplotlib.pyplot as plt\n",
    "import numpy as np\n",
    "from scipy import stats"
   ]
  },
  {
   "cell_type": "markdown",
   "metadata": {},
   "source": [
    "### Question 1"
   ]
  },
  {
   "cell_type": "markdown",
   "metadata": {},
   "source": [
    "*alternative*; *A/B test*; *blocking*; *causal*; *controllable*; *design*; *experimental*; *explanatory*; *factor*; *factorial*; *F-test*; *levels*; *metric of interest*; *nuisance*; *null*; *observational*; *power*; *randomization*; *replication*; *response*; *sample*; *sample size*; *significance level*; *statistical*; *t-test*; *Type I*; *Type II*; *uncontrollable*; *unit*; *valid*; *Z-test*;\n",
    "\n",
    "$\\;$\n",
    "\n",
    "(a)\t[2 points] The Facebook experiment can be colloquially referred to as an A/B test. More formally, we think of this as an experiment with one factor that has two levels.\n",
    "\n",
    "(b)\t[1 point] A power analysis was used to determine that each condition required 500 users. Such an analysis is used to control Type II error.\n",
    "\n",
    "(c)\t[1 points] The fact that the numbers 513 and 487 are greater than 1 reflect the experimental design principle called replication.\n",
    "\n",
    "(d)\t[1 point] Each of the Facebook users in this experiment is considered an experimental unit.\n",
    "\n",
    "(e)\t[1 point] The manner in which the users were selected for inclusion in the experiment is an example of the experimental design principle called randomization.\n",
    "\n",
    "(f)\t[1 point] The session duration measured for each user may be referred to as the response variable.\n",
    "\n",
    "(g) [1 point] The *average* session duration is the metric of interest.\n",
    "\n",
    "(h)\t[1 point] The hypothesis test that is most appropriate for addressing the primary question in this experiment is a t-test. \n",
    "\n",
    "(i)\t[2 points] Suppose the test in (i) is carried out and a p-value is calculated. In order to draw a formal conclusion this p-value must be compared to the significance level whose value is chosen to control Type I error.\n",
    "\n",
    "(j)\t[2 points] The benefit of such an experiment, relative to an observational study, is that it more easily facilitates causal inference.\n",
    "\n",
    "(k) [2 points] 'Device-type' and 'operating system' are examples of nuisance factors here, and the manner in which they are dealt with is an example of blocking.\n"
   ]
  },
  {
   "cell_type": "markdown",
   "metadata": {},
   "source": [
    "<div style=\"page-break-after: always; visibility: hidden\"> \n",
    "\\pagebreak \n",
    "</div>"
   ]
  },
  {
   "cell_type": "markdown",
   "metadata": {},
   "source": [
    "\n",
    "### Question 2"
   ]
  },
  {
   "cell_type": "markdown",
   "metadata": {},
   "source": [
    "(a) In each of the following questions, calculate the appropriate test statistic given the null hypothesis and the relevant data summaries. You do not need to calculate the p-value here. You may use Python for this question, but make sure to show your work.\n",
    "\n",
    "    i. [1 point] H0 : μ1 = μ2 (assuming σ1 and σ2 are unknown but equal)\n",
    "    \n",
    "      * n1 = 750, ̂ μ1 = y1 = 15, ̂ σ1 = s1 = 2\n",
    "        \n",
    "      * n2 = 750, ̂ μ2 = y2 = 10, ̂ σ2 = s2 = 3\n",
    "        \n",
    "    \n",
    "    \n",
    "    ii. [1 point] H0 : μ1 ≥ μ2 (assuming σ1 and σ2 are unknown and unequal)\n",
    "    \n",
    "      * n1 = 500, ̂ μ1 = y1 = 100, ̂ σ1 = s1 = 10\n",
    "        \n",
    "      * n2 = 500, ̂ μ2 = y2 = 110, ̂ σ2 = s2 = 11\n",
    "        \n",
    "    \n",
    "    \n",
    "    iii. [1 point] H0 : σ1^2 = σ2^2\n",
    "    \n",
    "      * n1 = 500, ̂ μ1 = y1 = 100, ̂ σ1 = s1 = 10\n",
    "        \n",
    "      * n2 = 500, ̂ μ2 = y2 = 110, ̂ σ2 = s2 = 11\n",
    "\n",
    "\n",
    "      \n"
   ]
  },
  {
   "cell_type": "code",
   "execution_count": 7,
   "metadata": {},
   "outputs": [
    {
     "data": {
      "text/plain": [
       "14.89608979310545"
      ]
     },
     "execution_count": 7,
     "metadata": {},
     "output_type": "execute_result"
    }
   ],
   "source": [
    "# i. H0 : μ1 = μ2 (assuming σ1 and σ2 are unknown but equal)\n",
    "n1 = 750\n",
    "n2 = 750\n",
    "var = ((n1-1)*(2**2) + (n2-1)*(3**2))/(n1+n2-2)\n",
    "t = (15 - 10)/(var*pow((1/n1+1/n2), 0.5))\n",
    "t"
   ]
  },
  {
   "cell_type": "code",
   "execution_count": 45,
   "metadata": {},
   "outputs": [
    {
     "data": {
      "text/plain": [
       "-15.04142093990467"
      ]
     },
     "execution_count": 45,
     "metadata": {},
     "output_type": "execute_result"
    }
   ],
   "source": [
    "# ii. [1 point] H0 : μ1 ≥ μ2 (assuming σ1 and σ2 are unknown and unequal)\n",
    "n1 = 500\n",
    "n2 = 500\n",
    "var = (10**2/n1) + (11**2/n2)\n",
    "t = (100 - 110)/pow(var, 0.5)\n",
    "t"
   ]
  },
  {
   "cell_type": "code",
   "execution_count": 6,
   "metadata": {},
   "outputs": [
    {
     "data": {
      "text/plain": [
       "0.8264462809917356"
      ]
     },
     "execution_count": 6,
     "metadata": {},
     "output_type": "execute_result"
    }
   ],
   "source": [
    "# iii. H0 : σ1^2 = σ2^2\n",
    "t = 10**2/11**2\n",
    "t"
   ]
  },
  {
   "cell_type": "markdown",
   "metadata": {},
   "source": [
    "(b) Suppose we perform an experiment with two conditions containing $n_1 = 418$ and $n_2 = 405$ units, respectively. For each of the hypotheses and test statistics below, state the null distribution and calculate the appropriate p-value. Note that in the case of Welch’s t-test you may use the approximate degrees of freedom $\\text{min}(n_1,n_2)-1$. You may use Python for this question, but make sure to show your work.\n",
    "\n",
    "    i. [2 points] H0 : μ1 = μ2 vs. HA : μ1 != μ2 (assuming σ1 and σ2 are unknown and unequal)\n",
    "    \n",
    "      * t = −0.34\n",
    "    \n",
    "    \n",
    "    \n",
    "    ii. [2 points] H0 : μ1 ≤ μ2 vs. HA : μ1 > μ2 (assuming σ1 and σ2 are unknown but equal)\n",
    "\n",
    "      * t = 1.76\n",
    "    \n",
    "    \n",
    "    \n",
    "    iii. [2 points] H0 : σ1^2 = σ2^2 H_A: H0 : σ1^2 != σ2^2\n",
    "    \n",
    "      * t = 1.02"
   ]
  },
  {
   "cell_type": "code",
   "execution_count": 41,
   "metadata": {},
   "outputs": [
    {
     "data": {
      "text/plain": [
       "0.7340332278172301"
      ]
     },
     "execution_count": 41,
     "metadata": {},
     "output_type": "execute_result"
    }
   ],
   "source": [
    "# i. H0 : μ1 = μ2 vs. HA : μ1 ̸ = μ2 (assuming σ1 and σ2 are unknown and unequal)\n",
    "t = -0.34\n",
    "pv = stats.t.cdf(t, 404) + 1 - stats.t.cdf(-t, 404)\n",
    "pv"
   ]
  },
  {
   "cell_type": "code",
   "execution_count": 44,
   "metadata": {},
   "outputs": [
    {
     "data": {
      "text/plain": [
       "0.03939008297075401"
      ]
     },
     "execution_count": 44,
     "metadata": {},
     "output_type": "execute_result"
    }
   ],
   "source": [
    "# ii. H0 : μ1 ≤ μ2 vs. HA : μ1 > μ2 (assuming σ1 and σ2 are unknown but equal)\n",
    "t = 1.76\n",
    "pv = stats.t.sf(t, 418+405-2)  ## p(T>=t)\n",
    "pv"
   ]
  },
  {
   "cell_type": "code",
   "execution_count": 25,
   "metadata": {},
   "outputs": [
    {
     "data": {
      "text/plain": [
       "0.8411211647544122"
      ]
     },
     "execution_count": 25,
     "metadata": {},
     "output_type": "execute_result"
    }
   ],
   "source": [
    "# iii. H0 : σ1^2 = σ2^2 H_A: H0 : σ1^2 != σ2^2\n",
    "t = 1.02\n",
    "pv = 1 - stats.f.cdf(t, dfn=417, dfd=404) + stats.f.cdf(1/t, dfn=417, dfd=404) ## p(T>=t)+ p(T<=1/t)\n",
    "pv"
   ]
  },
  {
   "cell_type": "markdown",
   "metadata": {},
   "source": [
    "<div style=\"page-break-after: always; visibility: hidden\"> \n",
    "\\pagebreak \n",
    "</div>"
   ]
  },
  {
   "cell_type": "markdown",
   "metadata": {},
   "source": [
    "### Question 3\n",
    "\n",
    "[Punchh](https://punchh.com/) is a loyalty and engagement platform used by over 275 brick-and-mortar retailers such as Dairy Queen, Quiznos, Pizza Hut, and Denny's. Punchh provides these retailers with a machine learning-based software that may be embedded in their apps to manage personalized promotions that encourage customer loyalty. IHOP, for example, can use Punchh's machine learning algorithms to determine how and when to target their app's users with loyalty promotions (like a \"Kids Eat Free\" promotion). Suppose that Punchh is experimenting with the algorithm underlying their [campaign delivery](https://punchh.com/platform/campaigns/) recommendations. In particular, suppose that the Product and UX Research team has developed a new version of the algorithm and they want to determine whether users who receive promotions from the new algorithm are more engaged than users who receive promotions from the existing version. Engagement is measured by the revenue generated by users exposed to each version of the algorithm. \n",
    "\n",
    "Suppose that the machine learning scientists on the *Product and UX Research* team run an experiment in partnership with IHOP where $n=500$ users of the IHOP app receive promotions recommended by the *existing* version of Punchh's algorithm and $n=500$ users of the IHOP app receive promotions recommended by the *new* version of Punchh's algorithm. Each user is sent promotions by their respective algorithms over the course of 2 weeks and the amount of money they spend on the app (in dollars) in the following month is recorded. Interest lies in determining whether the average dollars spent under the new algorithm is significantly more than with the existing algorithm.\n"
   ]
  },
  {
   "cell_type": "markdown",
   "metadata": {},
   "source": [
    "(a)\t[2 points] What is the metric of interest and what is the corresponding response variable?\n",
    "\n",
    "    MOI: Average dollars spent. Response variable: The measurement of money that each user spent.\n",
    "\n",
    "(b)\t[2 points] What is the design factor and what are its levels?\n",
    "\n",
    "    Factor: algorithm. Levels: {existing algorithm, new algorithm}\n",
    "\n",
    "(c)\t[1 points] What constitutes an experimental unit in this experiment?\n",
    "\n",
    "    Users that are using IHOP app\n",
    "\n",
    "\n",
    "(d)\t[2 points] State the null and alternative hypotheses for this experiment. Be sure to define any notation you use.\n",
    "\n",
    "    μ1 = average money spent in existing algorithm\n",
    "    μ2 = average money spent in new algorithm\n",
    "    H0: μ1 >= μ2 vs. HA = μ1 < μ2\n",
    "\n",
    "(e)\t[2 points] The file `punchh.csv` contains observations on the dollars spent for each of the 1000 IHOP app users. Plot two histograms of \"dollars spent\", one for each condition. On each histogram indicate the mean of the \"dollars spent\" distributions with red lines. Be sure to add a title and axis labels. Comment on which condition appears to maximize average dollars spent. \n",
    "\n"
   ]
  },
  {
   "cell_type": "code",
   "execution_count": 2,
   "metadata": {},
   "outputs": [
    {
     "data": {
      "text/plain": [
       "<matplotlib.collections.LineCollection at 0x144b8cbd0>"
      ]
     },
     "execution_count": 2,
     "metadata": {},
     "output_type": "execute_result"
    },
    {
     "data": {
      "image/png": "[encoded data removed]",
      "text/plain": [
       "<Figure size 640x480 with 1 Axes>"
      ]
     },
     "metadata": {},
     "output_type": "display_data"
    },
    {
     "data": {
      "image/png": "[encoded data removed]",
      "text/plain": [
       "<Figure size 640x480 with 1 Axes>"
      ]
     },
     "metadata": {},
     "output_type": "display_data"
    }
   ],
   "source": [
    "df = pd.read_csv('./data/punchh.csv')\n",
    "cond1 = df[df['Alg.Version']=='Existing'][\"Dollars.Spent\"]\n",
    "cond2 = df[df['Alg.Version']=='New'][\"Dollars.Spent\"]\n",
    "df1 = len(cond1)\n",
    "df2 = len(cond2)\n",
    "xmin = min(min(cond1), min(cond2))\n",
    "xmax = max(max(cond1), max(cond2))\n",
    "plt.figure()\n",
    "plt.hist(cond1, color = \"white\", edgecolor = \"black\")\n",
    "plt.xlim(xmin,xmax)\n",
    "plt.xlabel(\"Dollars Spent\")\n",
    "plt.ylabel(\"Frequency\")\n",
    "plt.title(\"Dollars Spent on Existing Algorithm\")\n",
    "plt.vlines(x = np.mean(cond1), ymin = 0, ymax = 150, color = \"red\", linewidth = 2)\n",
    "\n",
    "plt.figure()\n",
    "plt.hist(cond2, color = \"white\", edgecolor = \"black\")\n",
    "plt.xlim(xmin,xmax)\n",
    "plt.xlabel(\"Dollars Spent\")\n",
    "plt.ylabel(\"Frequency\")\n",
    "plt.title(\"Dollars Spent on New Algorithm\")\n",
    "plt.vlines(x = np.mean(cond2), ymin = 0, ymax = 150, color = \"red\", linewidth = 2)"
   ]
  },
  {
   "cell_type": "markdown",
   "metadata": {},
   "source": [
    "(f) [4 points] Using the observed data, test the hypothesis in (d) at a 5% significance level. Clearly state your conclusion in the context of the problem. Explain whether this conclusion is surprising, given what you see in the histograms from part (e). You may use Python for this question, but make sure to show your work."
   ]
  },
  {
   "cell_type": "code",
   "execution_count": 4,
   "metadata": {},
   "outputs": [
    {
     "name": "stdout",
     "output_type": "stream",
     "text": [
      "t = 0.6545396509678213\n"
     ]
    }
   ],
   "source": [
    "t = np.var(cond1, ddof = 1)/np.var(cond2, ddof = 1)\n",
    "print(\"t =\", t)"
   ]
  },
  {
   "cell_type": "code",
   "execution_count": 5,
   "metadata": {},
   "outputs": [
    {
     "name": "stdout",
     "output_type": "stream",
     "text": [
      "p-value = 2.3749666006045445e-06\n"
     ]
    }
   ],
   "source": [
    "pv = stats.f.cdf(t, dfn=df1, dfd=df2) + 1 - stats.f.cdf(1/t, dfn=df1, dfd=df2)\n",
    "print(\"p-value =\", pv)"
   ]
  },
  {
   "cell_type": "markdown",
   "metadata": {},
   "source": [
    "This p-value is smaller than 5% that we reject $H_0:\\sigma_1^2=\\sigma_2^2$, next step using Welch's t-test to test:"
   ]
  },
  {
   "cell_type": "markdown",
   "metadata": {},
   "source": [
    "$$H_0:\\mu_1\\geq\\mu_2 \\text{ vs. }H_A:\\mu_1<\\mu_2$$"
   ]
  },
  {
   "cell_type": "code",
   "execution_count": 6,
   "metadata": {},
   "outputs": [
    {
     "name": "stdout",
     "output_type": "stream",
     "text": [
      "t = -6.4463225406763405\n",
      "p-value = 9.074779103707131e-11\n"
     ]
    }
   ],
   "source": [
    "t, pv = stats.ttest_ind(cond1, cond2, equal_var = False, alternative = 'less')\n",
    "print(\"t =\", t)\n",
    "print(\"p-value =\", pv)"
   ]
  },
  {
   "cell_type": "markdown",
   "metadata": {},
   "source": [
    "This is an extremely small p-value, providing evidence against the null hypothesis above, suggesting that average dollar spent in the new algorithm could be greater than that of the existing algorithm. Doesn't surprise me from what I see in historgrams."
   ]
  },
  {
   "cell_type": "markdown",
   "metadata": {},
   "source": [
    "(g)\t[1 point] Comment on the suitability of the t-test for this problem and these data.\n",
    "\n",
    "    I think it is appropriate. t-test is commonly used to compare the means of two independent groups. Therefore, a two-sample t-test is a suitable statistical test for this problem. The two data are from two individual sets, existing and new algorithms. But we don't know how the users are selected, is it randomly or not, that is one concern."
   ]
  },
  {
   "cell_type": "markdown",
   "metadata": {},
   "source": []
  }
 ],
 "metadata": {
  "kernelspec": {
   "display_name": "linear_regession",
   "language": "python",
   "name": "python3"
  },
  "language_info": {
   "codemirror_mode": {
    "name": "ipython",
    "version": 3
   },
   "file_extension": ".py",
   "mimetype": "text/x-python",
   "name": "python",
   "nbconvert_exporter": "python",
   "pygments_lexer": "ipython3",
   "version": "3.11.5"
  }
 },
 "nbformat": 4,
 "nbformat_minor": 2
}
