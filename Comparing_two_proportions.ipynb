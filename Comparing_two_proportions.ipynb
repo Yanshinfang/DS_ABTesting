{
 "cells": [
  {
   "cell_type": "markdown",
   "id": "bdacc996",
   "metadata": {},
   "source": [
    "# Optimizely Z-test Example"
   ]
  },
  {
   "cell_type": "markdown",
   "id": "41db3fc8",
   "metadata": {},
   "source": [
    "Import necessary libraries"
   ]
  },
  {
   "cell_type": "code",
   "execution_count": 2,
   "id": "b9625292",
   "metadata": {},
   "outputs": [],
   "source": [
    "import numpy as np\n",
    "from scipy import stats"
   ]
  },
  {
   "cell_type": "markdown",
   "id": "b23e0f75",
   "metadata": {},
   "source": [
    "The observed number of conversions in condition 1 was 280 and in condition 2 it was 399. These conditions respectively contained n1 = 8872 and n2 = 8642 experimental units. This is all the information we need to perform the Z-test. We don't need the raw data itself, just these summaries. Below we calculate the condition-specific and pooled conversion rates."
   ]
  },
  {
   "cell_type": "code",
   "execution_count": 4,
   "id": "42e30250",
   "metadata": {},
   "outputs": [],
   "source": [
    "n1 = 8872\n",
    "n2 = 8642\n",
    "pi1hat = 280 / n1\n",
    "pi2hat = 399 / n2\n",
    "pihat = (n1*pi1hat + n2*pi2hat) / (n1 + n2)"
   ]
  },
  {
   "cell_type": "markdown",
   "id": "2fdb86a0",
   "metadata": {},
   "source": [
    "Calculate the test statistic (this is the same no matter which alternative we are testing). {{pihat}}"
   ]
  },
  {
   "cell_type": "code",
   "execution_count": 5,
   "id": "89dbeaf0",
   "metadata": {},
   "outputs": [
    {
     "name": "stdout",
     "output_type": "stream",
     "text": [
      "t = -5.007448478937178\n"
     ]
    }
   ],
   "source": [
    "t = (pi1hat - pi2hat) / np.sqrt(pihat * (1-pihat) * (1/n1 + 1/n2))\n",
    "print(\"t =\", t)"
   ]
  },
  {
   "cell_type": "markdown",
   "id": "940fa394",
   "metadata": {},
   "source": [
    "Let us first test $$H_0:\\pi_1=\\pi_2 \\text{ vs. }H_A:\\pi_1\\neq\\pi_2$$"
   ]
  },
  {
   "cell_type": "code",
   "execution_count": 4,
   "id": "2399d2c7",
   "metadata": {},
   "outputs": [
    {
     "name": "stdout",
     "output_type": "stream",
     "text": [
      "p-value = 5.515630872032773e-07\n"
     ]
    }
   ],
   "source": [
    "pv = 2 * (1 - stats.norm.cdf(abs(t)))\n",
    "print(\"p-value =\", pv)"
   ]
  },
  {
   "cell_type": "markdown",
   "id": "28e8081e",
   "metadata": {},
   "source": [
    "This is a very small p-value, providing very strong evidence against the null hypothesis above. This suggests that the conversion rate on the two versions of the homepage _are not_ the same."
   ]
  },
  {
   "cell_type": "markdown",
   "id": "1d03b4f3",
   "metadata": {},
   "source": [
    "Next let us test $$H_0:\\pi_1\\leq\\pi_2 \\text{ vs. }H_A:\\pi_1>\\pi_2$$"
   ]
  },
  {
   "cell_type": "code",
   "execution_count": 5,
   "id": "d9a0f54c",
   "metadata": {},
   "outputs": [
    {
     "name": "stdout",
     "output_type": "stream",
     "text": [
      "p-value = 0.9999997242184564\n"
     ]
    }
   ],
   "source": [
    "pv = 1 - stats.norm.cdf(t)\n",
    "print(\"p-value =\", pv)"
   ]
  },
  {
   "cell_type": "markdown",
   "id": "84a67888",
   "metadata": {},
   "source": [
    "This is a very large p-value, providing no evidence against the null hypothesis above. This suggests that the conversion rate on the original version of the webpage could be less than or equal to that of the redesigned webpage.\n",
    "\n",
    "Next let us test $$H_0:\\pi_1\\geq\\pi_2 \\text{ vs. }H_A:\\pi_1<\\pi_2$$"
   ]
  },
  {
   "cell_type": "code",
   "execution_count": 6,
   "id": "2aaad214",
   "metadata": {},
   "outputs": [
    {
     "name": "stdout",
     "output_type": "stream",
     "text": [
      "p-value = 2.757815436331258e-07\n"
     ]
    }
   ],
   "source": [
    "pv = stats.norm.cdf(t)\n",
    "print(\"p-value =\", pv)"
   ]
  },
  {
   "cell_type": "markdown",
   "id": "59d52cbc",
   "metadata": {},
   "source": [
    "This is a very small p-value, providing very strong evidence against the null hypothesis above. This suggests that the conversion rate on the redesigned homepage is larger than on the original homepage."
   ]
  }
 ],
 "metadata": {
  "kernelspec": {
   "display_name": "Python 3",
   "language": "python",
   "name": "python3"
  },
  "language_info": {
   "codemirror_mode": {
    "name": "ipython",
    "version": 3
   },
   "file_extension": ".py",
   "mimetype": "text/x-python",
   "name": "python",
   "nbconvert_exporter": "python",
   "pygments_lexer": "ipython3",
   "version": "3.8.8"
  }
 },
 "nbformat": 4,
 "nbformat_minor": 5
}
