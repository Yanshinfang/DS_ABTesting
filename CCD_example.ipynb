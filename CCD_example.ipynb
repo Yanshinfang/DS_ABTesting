{
 "cells": [
  {
   "cell_type": "markdown",
   "id": "fc1ffd5d",
   "metadata": {},
   "source": [
    "# Central Composite Design Example\n",
    "\n",
    "Import necessary libraries:"
   ]
  },
  {
   "cell_type": "code",
   "execution_count": 2,
   "id": "fcef0b83",
   "metadata": {},
   "outputs": [],
   "source": [
    "import os\n",
    "import pandas as pd\n",
    "import statsmodels.formula.api as smf\n",
    "import numpy as np\n",
    "import matplotlib.pyplot as plt"
   ]
  },
  {
   "cell_type": "markdown",
   "id": "dff103e1",
   "metadata": {},
   "source": [
    "Define some useful functions for translating back and forth between natural and coded units:"
   ]
  },
  {
   "cell_type": "code",
   "execution_count": 3,
   "id": "0998604e",
   "metadata": {},
   "outputs": [],
   "source": [
    "def convertNtoC(U, UH, UL):\n",
    "    x = (U - (UH+UL)/2) / ((UH-UL)/2)  \n",
    "    return x\n",
    "\n",
    "def convertCtoN(x, UH, UL):\n",
    "    U = x*(UH-UL)/2 + (UH+UL)/2\n",
    "    return U"
   ]
  },
  {
   "cell_type": "markdown",
   "id": "2927cfaf",
   "metadata": {},
   "source": [
    "Change the working directory:"
   ]
  },
  {
   "cell_type": "code",
   "execution_count": 4,
   "id": "1d884b91",
   "metadata": {},
   "outputs": [],
   "source": [
    "os.chdir(\"/Users/nstevens/Dropbox/Teaching/MSDS_629/2023/Lectures/Lecture8\")"
   ]
  },
  {
   "cell_type": "markdown",
   "id": "30f97d60",
   "metadata": {},
   "source": [
    "Read in the data and look at it:"
   ]
  },
  {
   "cell_type": "code",
   "execution_count": 5,
   "id": "8d53c543",
   "metadata": {},
   "outputs": [
    {
     "data": {
      "text/html": [
       "<div>\n",
       "<style scoped>\n",
       "    .dataframe tbody tr th:only-of-type {\n",
       "        vertical-align: middle;\n",
       "    }\n",
       "\n",
       "    .dataframe tbody tr th {\n",
       "        vertical-align: top;\n",
       "    }\n",
       "\n",
       "    .dataframe thead th {\n",
       "        text-align: right;\n",
       "    }\n",
       "</style>\n",
       "<table border=\"1\" class=\"dataframe\">\n",
       "  <thead>\n",
       "    <tr style=\"text-align: right;\">\n",
       "      <th></th>\n",
       "      <th>x1</th>\n",
       "      <th>x2</th>\n",
       "      <th>y</th>\n",
       "    </tr>\n",
       "  </thead>\n",
       "  <tbody>\n",
       "    <tr>\n",
       "      <th>0</th>\n",
       "      <td>-1.0</td>\n",
       "      <td>-1.0</td>\n",
       "      <td>1</td>\n",
       "    </tr>\n",
       "    <tr>\n",
       "      <th>1</th>\n",
       "      <td>-1.0</td>\n",
       "      <td>-1.0</td>\n",
       "      <td>1</td>\n",
       "    </tr>\n",
       "    <tr>\n",
       "      <th>2</th>\n",
       "      <td>-1.0</td>\n",
       "      <td>-1.0</td>\n",
       "      <td>1</td>\n",
       "    </tr>\n",
       "    <tr>\n",
       "      <th>3</th>\n",
       "      <td>-1.0</td>\n",
       "      <td>-1.0</td>\n",
       "      <td>1</td>\n",
       "    </tr>\n",
       "    <tr>\n",
       "      <th>4</th>\n",
       "      <td>-1.0</td>\n",
       "      <td>-1.0</td>\n",
       "      <td>1</td>\n",
       "    </tr>\n",
       "    <tr>\n",
       "      <th>5</th>\n",
       "      <td>-1.0</td>\n",
       "      <td>-1.0</td>\n",
       "      <td>1</td>\n",
       "    </tr>\n",
       "    <tr>\n",
       "      <th>6</th>\n",
       "      <td>-1.0</td>\n",
       "      <td>-1.0</td>\n",
       "      <td>1</td>\n",
       "    </tr>\n",
       "    <tr>\n",
       "      <th>7</th>\n",
       "      <td>-1.0</td>\n",
       "      <td>-1.0</td>\n",
       "      <td>1</td>\n",
       "    </tr>\n",
       "    <tr>\n",
       "      <th>8</th>\n",
       "      <td>-1.0</td>\n",
       "      <td>-1.0</td>\n",
       "      <td>1</td>\n",
       "    </tr>\n",
       "    <tr>\n",
       "      <th>9</th>\n",
       "      <td>-1.0</td>\n",
       "      <td>-1.0</td>\n",
       "      <td>1</td>\n",
       "    </tr>\n",
       "  </tbody>\n",
       "</table>\n",
       "</div>"
      ],
      "text/plain": [
       "    x1   x2  y\n",
       "0 -1.0 -1.0  1\n",
       "1 -1.0 -1.0  1\n",
       "2 -1.0 -1.0  1\n",
       "3 -1.0 -1.0  1\n",
       "4 -1.0 -1.0  1\n",
       "5 -1.0 -1.0  1\n",
       "6 -1.0 -1.0  1\n",
       "7 -1.0 -1.0  1\n",
       "8 -1.0 -1.0  1\n",
       "9 -1.0 -1.0  1"
      ]
     },
     "execution_count": 5,
     "metadata": {},
     "output_type": "execute_result"
    }
   ],
   "source": [
    "lyft = pd.read_csv('lyft-ccd.csv')\n",
    "lyft.head(10)"
   ]
  },
  {
   "cell_type": "markdown",
   "id": "e5bc67ab",
   "metadata": {},
   "source": [
    "The data correspond to a CCD on two factors with axial conditions based on $a = 1.4$. The loaded data is in coded units where the \"low\" and \"high\" values of each factor in natural units is as follows:\n",
    "\n",
    "* $x_1$: Discount amount (%): 25 vs 75\n",
    "* $x_2$: Discount duration (days): 2 vs 7\n",
    "\n",
    "Let's add some columns to `lyft` that contain the factor levels in natural units. Let's also calculate the booking rate in each condition."
   ]
  },
  {
   "cell_type": "code",
   "execution_count": 6,
   "id": "cc1196b6",
   "metadata": {},
   "outputs": [
    {
     "data": {
      "text/html": [
       "<div>\n",
       "<style scoped>\n",
       "    .dataframe tbody tr th:only-of-type {\n",
       "        vertical-align: middle;\n",
       "    }\n",
       "\n",
       "    .dataframe tbody tr th {\n",
       "        vertical-align: top;\n",
       "    }\n",
       "\n",
       "    .dataframe thead th {\n",
       "        text-align: right;\n",
       "    }\n",
       "</style>\n",
       "<table border=\"1\" class=\"dataframe\">\n",
       "  <thead>\n",
       "    <tr style=\"text-align: right;\">\n",
       "      <th></th>\n",
       "      <th></th>\n",
       "      <th>x1</th>\n",
       "      <th>x2</th>\n",
       "      <th>y</th>\n",
       "    </tr>\n",
       "    <tr>\n",
       "      <th>Discount</th>\n",
       "      <th>Duration</th>\n",
       "      <th></th>\n",
       "      <th></th>\n",
       "      <th></th>\n",
       "    </tr>\n",
       "  </thead>\n",
       "  <tbody>\n",
       "    <tr>\n",
       "      <th>15.0</th>\n",
       "      <th>4.5</th>\n",
       "      <td>-1.4</td>\n",
       "      <td>0.0</td>\n",
       "      <td>0.50</td>\n",
       "    </tr>\n",
       "    <tr>\n",
       "      <th rowspan=\"2\" valign=\"top\">25.0</th>\n",
       "      <th>2.0</th>\n",
       "      <td>-1.0</td>\n",
       "      <td>-1.0</td>\n",
       "      <td>0.71</td>\n",
       "    </tr>\n",
       "    <tr>\n",
       "      <th>7.0</th>\n",
       "      <td>-1.0</td>\n",
       "      <td>1.0</td>\n",
       "      <td>0.32</td>\n",
       "    </tr>\n",
       "    <tr>\n",
       "      <th rowspan=\"3\" valign=\"top\">50.0</th>\n",
       "      <th>1.0</th>\n",
       "      <td>0.0</td>\n",
       "      <td>-1.4</td>\n",
       "      <td>0.78</td>\n",
       "    </tr>\n",
       "    <tr>\n",
       "      <th>4.5</th>\n",
       "      <td>0.0</td>\n",
       "      <td>0.0</td>\n",
       "      <td>0.72</td>\n",
       "    </tr>\n",
       "    <tr>\n",
       "      <th>8.0</th>\n",
       "      <td>0.0</td>\n",
       "      <td>1.4</td>\n",
       "      <td>0.26</td>\n",
       "    </tr>\n",
       "    <tr>\n",
       "      <th rowspan=\"2\" valign=\"top\">75.0</th>\n",
       "      <th>2.0</th>\n",
       "      <td>1.0</td>\n",
       "      <td>-1.0</td>\n",
       "      <td>0.71</td>\n",
       "    </tr>\n",
       "    <tr>\n",
       "      <th>7.0</th>\n",
       "      <td>1.0</td>\n",
       "      <td>1.0</td>\n",
       "      <td>0.35</td>\n",
       "    </tr>\n",
       "    <tr>\n",
       "      <th>85.0</th>\n",
       "      <th>4.5</th>\n",
       "      <td>1.4</td>\n",
       "      <td>0.0</td>\n",
       "      <td>0.53</td>\n",
       "    </tr>\n",
       "  </tbody>\n",
       "</table>\n",
       "</div>"
      ],
      "text/plain": [
       "                    x1   x2     y\n",
       "Discount Duration                \n",
       "15.0     4.5      -1.4  0.0  0.50\n",
       "25.0     2.0      -1.0 -1.0  0.71\n",
       "         7.0      -1.0  1.0  0.32\n",
       "50.0     1.0       0.0 -1.4  0.78\n",
       "         4.5       0.0  0.0  0.72\n",
       "         8.0       0.0  1.4  0.26\n",
       "75.0     2.0       1.0 -1.0  0.71\n",
       "         7.0       1.0  1.0  0.35\n",
       "85.0     4.5       1.4  0.0  0.53"
      ]
     },
     "execution_count": 6,
     "metadata": {},
     "output_type": "execute_result"
    }
   ],
   "source": [
    "x1_N = convertCtoN(x=lyft['x1'], UH=75, UL=25)\n",
    "x2_N = convertCtoN(x=lyft['x2'], UH=7, UL=2)\n",
    "lyft['Discount'] = x1_N\n",
    "lyft['Duration'] = x2_N\n",
    "lyft.groupby(['Discount','Duration']).mean()"
   ]
  },
  {
   "cell_type": "markdown",
   "id": "0830c436",
   "metadata": {},
   "source": [
    "Next let us fit the full 2nd order model with linear predictor given by $$\\beta_0+\\beta_1x_1+\\beta_2+x_2+\\beta_{12}x_1x_2+\\beta_{11}x_1^2+\\beta_{22}x_2^2$$"
   ]
  },
  {
   "cell_type": "code",
   "execution_count": 7,
   "id": "b4035d8d",
   "metadata": {},
   "outputs": [
    {
     "name": "stdout",
     "output_type": "stream",
     "text": [
      "Optimization terminated successfully.\n",
      "         Current function value: 0.617399\n",
      "         Iterations 5\n"
     ]
    },
    {
     "data": {
      "text/html": [
       "<table class=\"simpletable\">\n",
       "<caption>Logit Regression Results</caption>\n",
       "<tr>\n",
       "  <th>Dep. Variable:</th>           <td>y</td>        <th>  No. Observations:  </th>   <td>  4500</td>  \n",
       "</tr>\n",
       "<tr>\n",
       "  <th>Model:</th>                 <td>Logit</td>      <th>  Df Residuals:      </th>   <td>  4494</td>  \n",
       "</tr>\n",
       "<tr>\n",
       "  <th>Method:</th>                 <td>MLE</td>       <th>  Df Model:          </th>   <td>     5</td>  \n",
       "</tr>\n",
       "<tr>\n",
       "  <th>Date:</th>            <td>Mon, 02 Jan 2023</td> <th>  Pseudo R-squ.:     </th>   <td>0.1047</td>  \n",
       "</tr>\n",
       "<tr>\n",
       "  <th>Time:</th>                <td>16:32:47</td>     <th>  Log-Likelihood:    </th>  <td> -2778.3</td> \n",
       "</tr>\n",
       "<tr>\n",
       "  <th>converged:</th>             <td>True</td>       <th>  LL-Null:           </th>  <td> -3103.1</td> \n",
       "</tr>\n",
       "<tr>\n",
       "  <th>Covariance Type:</th>     <td>nonrobust</td>    <th>  LLR p-value:       </th> <td>3.849e-138</td>\n",
       "</tr>\n",
       "</table>\n",
       "<table class=\"simpletable\">\n",
       "<tr>\n",
       "       <td></td>         <th>coef</th>     <th>std err</th>      <th>z</th>      <th>P>|z|</th>  <th>[0.025</th>    <th>0.975]</th>  \n",
       "</tr>\n",
       "<tr>\n",
       "  <th>Intercept</th>  <td>    0.9428</td> <td>    0.100</td> <td>    9.474</td> <td> 0.000</td> <td>    0.748</td> <td>    1.138</td>\n",
       "</tr>\n",
       "<tr>\n",
       "  <th>x1</th>         <td>    0.0388</td> <td>    0.033</td> <td>    1.174</td> <td> 0.241</td> <td>   -0.026</td> <td>    0.104</td>\n",
       "</tr>\n",
       "<tr>\n",
       "  <th>x2</th>         <td>   -0.8068</td> <td>    0.036</td> <td>  -22.612</td> <td> 0.000</td> <td>   -0.877</td> <td>   -0.737</td>\n",
       "</tr>\n",
       "<tr>\n",
       "  <th>x1:x2</th>      <td>    0.0339</td> <td>    0.048</td> <td>    0.700</td> <td> 0.484</td> <td>   -0.061</td> <td>    0.129</td>\n",
       "</tr>\n",
       "<tr>\n",
       "  <th>I(x1 ** 2)</th> <td>   -0.4421</td> <td>    0.058</td> <td>   -7.637</td> <td> 0.000</td> <td>   -0.556</td> <td>   -0.329</td>\n",
       "</tr>\n",
       "<tr>\n",
       "  <th>I(x2 ** 2)</th> <td>   -0.4145</td> <td>    0.059</td> <td>   -6.989</td> <td> 0.000</td> <td>   -0.531</td> <td>   -0.298</td>\n",
       "</tr>\n",
       "</table>"
      ],
      "text/plain": [
       "<class 'statsmodels.iolib.summary.Summary'>\n",
       "\"\"\"\n",
       "                           Logit Regression Results                           \n",
       "==============================================================================\n",
       "Dep. Variable:                      y   No. Observations:                 4500\n",
       "Model:                          Logit   Df Residuals:                     4494\n",
       "Method:                           MLE   Df Model:                            5\n",
       "Date:                Mon, 02 Jan 2023   Pseudo R-squ.:                  0.1047\n",
       "Time:                        16:32:47   Log-Likelihood:                -2778.3\n",
       "converged:                       True   LL-Null:                       -3103.1\n",
       "Covariance Type:            nonrobust   LLR p-value:                3.849e-138\n",
       "==============================================================================\n",
       "                 coef    std err          z      P>|z|      [0.025      0.975]\n",
       "------------------------------------------------------------------------------\n",
       "Intercept      0.9428      0.100      9.474      0.000       0.748       1.138\n",
       "x1             0.0388      0.033      1.174      0.241      -0.026       0.104\n",
       "x2            -0.8068      0.036    -22.612      0.000      -0.877      -0.737\n",
       "x1:x2          0.0339      0.048      0.700      0.484      -0.061       0.129\n",
       "I(x1 ** 2)    -0.4421      0.058     -7.637      0.000      -0.556      -0.329\n",
       "I(x2 ** 2)    -0.4145      0.059     -6.989      0.000      -0.531      -0.298\n",
       "==============================================================================\n",
       "\"\"\""
      ]
     },
     "execution_count": 7,
     "metadata": {},
     "output_type": "execute_result"
    }
   ],
   "source": [
    "model = smf.logit('y ~ x1 + x2 + x1:x2 + I(x1**2) + I(x2**2)', data = lyft).fit()\n",
    "model.summary()"
   ]
  },
  {
   "cell_type": "markdown",
   "id": "2fa858b3",
   "metadata": {},
   "source": [
    "Let's visualize this fitted surface:"
   ]
  },
  {
   "cell_type": "code",
   "execution_count": 8,
   "id": "f60eed78",
   "metadata": {},
   "outputs": [
    {
     "data": {
      "image/png": "[encoded data removed]",
      "text/plain": [
       "<Figure size 432x288 with 1 Axes>"
      ]
     },
     "metadata": {
      "needs_background": "light"
     },
     "output_type": "display_data"
    }
   ],
   "source": [
    "beta0 = model.params[0]\n",
    "beta1 = model.params[1]\n",
    "beta2 = model.params[2]\n",
    "beta12 = model.params[3]\n",
    "beta11 = model.params[4]\n",
    "beta22 = model.params[5]\n",
    "x1, x2 = np.meshgrid(np.linspace(convertNtoC(U = 0, UH = 75, UL = 25), \n",
    "                                 convertNtoC(U = 100, UH = 75, UL = 25), 100), \n",
    "                     np.linspace(convertNtoC(U = 0, UH = 7, UL = 2), \n",
    "                                 convertNtoC(U = 10, UH = 7, UL = 2), 100))\n",
    "eta = beta0 + beta1*x1 + beta2*x2 + beta12*x1*x2 + beta11*x1**2 + beta22*x2**2\n",
    "pi = np.exp(eta)/(1+np.exp(eta))\n",
    "h = plt.contour(x1, x2, pi)\n",
    "plt.clabel(h, inline=True, fontsize=10)\n",
    "plt.xlabel('x1')\n",
    "plt.ylabel('x2')\n",
    "plt.title('Predicted Booking Rate')\n",
    "plt.show()"
   ]
  },
  {
   "cell_type": "markdown",
   "id": "57803952",
   "metadata": {},
   "source": [
    "Now in natural units:"
   ]
  },
  {
   "cell_type": "code",
   "execution_count": 9,
   "id": "7f03c9da",
   "metadata": {},
   "outputs": [
    {
     "data": {
      "image/png": "[encoded data removed]",
      "text/plain": [
       "<Figure size 432x288 with 1 Axes>"
      ]
     },
     "metadata": {
      "needs_background": "light"
     },
     "output_type": "display_data"
    }
   ],
   "source": [
    "h = plt.contour(convertCtoN(x1, UH=75, UL=25),\n",
    "                convertCtoN(x2, UH=7, UL=2), pi)\n",
    "plt.clabel(h, inline=True, fontsize=10)\n",
    "plt.xlabel('Discount Amount (%)')\n",
    "plt.ylabel('Discount Duration (Days)')\n",
    "plt.title('Predicted Booking Rate')\n",
    "plt.show()"
   ]
  },
  {
   "cell_type": "markdown",
   "id": "359bc01d",
   "metadata": {},
   "source": [
    "Let's find the maximum of this surface and the corresponding factor levels at which this is achieved"
   ]
  },
  {
   "cell_type": "code",
   "execution_count": 10,
   "id": "28996caa",
   "metadata": {},
   "outputs": [
    {
     "name": "stdout",
     "output_type": "stream",
     "text": [
      "Booking rate is maximized when x1= [[0.00656521]] and x2= [[-0.97304723]]\n"
     ]
    }
   ],
   "source": [
    "b = np.matrix([beta1, beta2]).transpose()\n",
    "B = np.matrix([[beta11, 0.5*beta12], [0.5*beta12, beta22]])\n",
    "x_s = -0.5* np.matmul(np.linalg.inv(B), b)\n",
    "print(\"Booking rate is maximized when x1=\", x_s[0], \"and x2=\", x_s[1])"
   ]
  },
  {
   "cell_type": "markdown",
   "id": "f018cf8e",
   "metadata": {},
   "source": [
    "In natural units this optimum is located at:"
   ]
  },
  {
   "cell_type": "code",
   "execution_count": 11,
   "id": "0dde1684",
   "metadata": {},
   "outputs": [
    {
     "name": "stdout",
     "output_type": "stream",
     "text": [
      "Amount= [[50.16413014]] , Duration= [[2.06738192]]\n"
     ]
    }
   ],
   "source": [
    "xsN_1 = convertCtoN(x = x_s[0], UH = 75, UL = 25)\n",
    "xsN_2 = convertCtoN(x = x_s[1], UH = 7, UL = 2)\n",
    "print(\"Amount=\", xsN_1, \", Duration=\", xsN_2)"
   ]
  },
  {
   "cell_type": "markdown",
   "id": "411897ba",
   "metadata": {},
   "source": [
    "The predicted booking rate at this configuration is:"
   ]
  },
  {
   "cell_type": "code",
   "execution_count": 12,
   "id": "065baeac",
   "metadata": {},
   "outputs": [
    {
     "name": "stdout",
     "output_type": "stream",
     "text": [
      "[[0.79175174]]\n"
     ]
    }
   ],
   "source": [
    "eta_s = beta0 + 0.5*np.matmul(x_s.transpose(), b)\n",
    "print(np.exp(eta_s)/(1+np.exp(eta_s)))"
   ]
  },
  {
   "cell_type": "markdown",
   "id": "90954404",
   "metadata": {},
   "source": [
    "The predicted booking rate at a convient configuration near the optimum (Amount = 50, Duration = 2) is:"
   ]
  },
  {
   "cell_type": "code",
   "execution_count": 13,
   "id": "fd486ce6",
   "metadata": {},
   "outputs": [
    {
     "name": "stdout",
     "output_type": "stream",
     "text": [
      "0    0.7917\n",
      "dtype: float64\n"
     ]
    }
   ],
   "source": [
    "yhat = model.predict(exog=dict(x1=convertNtoC(U = 50, UH = 75, UL = 25), \n",
    "                               x2=convertNtoC(U = 2, UH = 7, UL = 2)))\n",
    "print(yhat)"
   ]
  },
  {
   "cell_type": "markdown",
   "id": "507c1e6f",
   "metadata": {},
   "source": [
    "This is a very similar prediction to what was observed at the _true_ optimum. So given the convenience of a 50\\% discount for 2 days, we might recommend that discount as a _practical_ optimum for which we expect a booking rate of roughly 80\\%."
   ]
  }
 ],
 "metadata": {
  "kernelspec": {
   "display_name": "Python 3",
   "language": "python",
   "name": "python3"
  },
  "language_info": {
   "codemirror_mode": {
    "name": "ipython",
    "version": 3
   },
   "file_extension": ".py",
   "mimetype": "text/x-python",
   "name": "python",
   "nbconvert_exporter": "python",
   "pygments_lexer": "ipython3",
   "version": "3.8.8"
  }
 },
 "nbformat": 4,
 "nbformat_minor": 5
}
