{
 "cells": [
  {
   "cell_type": "markdown",
   "id": "f17e0409",
   "metadata": {},
   "source": [
    "# Comparing Multiple Means with an ANOVA F-test"
   ]
  },
  {
   "cell_type": "markdown",
   "id": "aca5896a",
   "metadata": {},
   "source": [
    "Import necessary libraries"
   ]
  },
  {
   "cell_type": "code",
   "execution_count": 1,
   "id": "bb7de2d9",
   "metadata": {},
   "outputs": [],
   "source": [
    "import os\n",
    "import pandas as pd\n",
    "import matplotlib.pyplot as plt\n",
    "import statsmodels.formula.api as smf\n",
    "import numpy as np\n",
    "from scipy import stats"
   ]
  },
  {
   "cell_type": "markdown",
   "id": "b911d0f2",
   "metadata": {},
   "source": [
    "Change working directory"
   ]
  },
  {
   "cell_type": "code",
   "execution_count": 2,
   "id": "c30ae637",
   "metadata": {},
   "outputs": [],
   "source": [
    "os.chdir(\"/Users/nstevens/Dropbox/Teaching/MSDS_629/2023/Lectures/Lecture4\")"
   ]
  },
  {
   "cell_type": "markdown",
   "id": "819c8bcb",
   "metadata": {},
   "source": [
    "Read in the data:"
   ]
  },
  {
   "cell_type": "code",
   "execution_count": 3,
   "id": "af40462d",
   "metadata": {},
   "outputs": [
    {
     "data": {
      "text/html": [
       "<div>\n",
       "<style scoped>\n",
       "    .dataframe tbody tr th:only-of-type {\n",
       "        vertical-align: middle;\n",
       "    }\n",
       "\n",
       "    .dataframe tbody tr th {\n",
       "        vertical-align: top;\n",
       "    }\n",
       "\n",
       "    .dataframe thead th {\n",
       "        text-align: right;\n",
       "    }\n",
       "</style>\n",
       "<table border=\"1\" class=\"dataframe\">\n",
       "  <thead>\n",
       "    <tr style=\"text-align: right;\">\n",
       "      <th></th>\n",
       "      <th>time</th>\n",
       "      <th>booster</th>\n",
       "    </tr>\n",
       "  </thead>\n",
       "  <tbody>\n",
       "    <tr>\n",
       "      <th>0</th>\n",
       "      <td>9.675618</td>\n",
       "      <td>3</td>\n",
       "    </tr>\n",
       "    <tr>\n",
       "      <th>1</th>\n",
       "      <td>4.446914</td>\n",
       "      <td>1</td>\n",
       "    </tr>\n",
       "    <tr>\n",
       "      <th>2</th>\n",
       "      <td>10.403742</td>\n",
       "      <td>3</td>\n",
       "    </tr>\n",
       "    <tr>\n",
       "      <th>3</th>\n",
       "      <td>6.693658</td>\n",
       "      <td>2</td>\n",
       "    </tr>\n",
       "    <tr>\n",
       "      <th>4</th>\n",
       "      <td>5.777017</td>\n",
       "      <td>2</td>\n",
       "    </tr>\n",
       "    <tr>\n",
       "      <th>5</th>\n",
       "      <td>6.597787</td>\n",
       "      <td>2</td>\n",
       "    </tr>\n",
       "    <tr>\n",
       "      <th>6</th>\n",
       "      <td>4.156369</td>\n",
       "      <td>1</td>\n",
       "    </tr>\n",
       "    <tr>\n",
       "      <th>7</th>\n",
       "      <td>10.443116</td>\n",
       "      <td>3</td>\n",
       "    </tr>\n",
       "    <tr>\n",
       "      <th>8</th>\n",
       "      <td>4.290790</td>\n",
       "      <td>1</td>\n",
       "    </tr>\n",
       "    <tr>\n",
       "      <th>9</th>\n",
       "      <td>5.927310</td>\n",
       "      <td>2</td>\n",
       "    </tr>\n",
       "  </tbody>\n",
       "</table>\n",
       "</div>"
      ],
      "text/plain": [
       "        time  booster\n",
       "0   9.675618        3\n",
       "1   4.446914        1\n",
       "2  10.403742        3\n",
       "3   6.693658        2\n",
       "4   5.777017        2\n",
       "5   6.597787        2\n",
       "6   4.156369        1\n",
       "7  10.443116        3\n",
       "8   4.290790        1\n",
       "9   5.927310        2"
      ]
     },
     "execution_count": 3,
     "metadata": {},
     "output_type": "execute_result"
    }
   ],
   "source": [
    "candy = pd.read_csv('candycrush.csv')\n",
    "candy.head(10)"
   ]
  },
  {
   "cell_type": "markdown",
   "id": "b5ae8b12",
   "metadata": {},
   "source": [
    "Visualize the data"
   ]
  },
  {
   "cell_type": "code",
   "execution_count": 4,
   "id": "16253f7e",
   "metadata": {},
   "outputs": [
    {
     "data": {
      "image/png": "[encoded data removed]",
      "text/plain": [
       "<Figure size 432x288 with 1 Axes>"
      ]
     },
     "metadata": {
      "needs_background": "light"
     },
     "output_type": "display_data"
    }
   ],
   "source": [
    "y1 = candy[candy[\"booster\"]==1][\"time\"]\n",
    "y2 = candy[candy[\"booster\"]==2][\"time\"]\n",
    "y3 = candy[candy[\"booster\"]==3][\"time\"]\n",
    "y = [y1, y2, y3]\n",
    "plt.boxplot(y, labels = [\"Lollipop Hammer\", \"Jelly Fish\", \"Color Bomb\"]);\n",
    "plt.ylabel(\"Length of Game Play (minutes)\");\n",
    "plt.xlabel(\"Condition\");"
   ]
  },
  {
   "cell_type": "markdown",
   "id": "e3ec1eef",
   "metadata": {},
   "source": [
    "Let us next test $$H_0:\\mu_1=\\mu_2=\\mu_3 \\text{ vs. }H_A:\\mu_j\\neq\\mu_k \\text{ for some }j\\neq k$$ using an _appopriately defined_ linear regression model. Note that the subscripts 1, 2, 3 respectively refer to the lollipop hammer, jelly fish, and color bomb conditions.\n",
    "\n",
    "We first use the `ols` function from the `statsmodels` library."
   ]
  },
  {
   "cell_type": "code",
   "execution_count": 6,
   "id": "90c9155f",
   "metadata": {},
   "outputs": [
    {
     "data": {
      "text/html": [
       "<table class=\"simpletable\">\n",
       "<caption>OLS Regression Results</caption>\n",
       "<tr>\n",
       "  <th>Dep. Variable:</th>          <td>time</td>       <th>  R-squared:         </th> <td>   0.822</td> \n",
       "</tr>\n",
       "<tr>\n",
       "  <th>Model:</th>                   <td>OLS</td>       <th>  Adj. R-squared:    </th> <td>   0.821</td> \n",
       "</tr>\n",
       "<tr>\n",
       "  <th>Method:</th>             <td>Least Squares</td>  <th>  F-statistic:       </th> <td>   851.9</td> \n",
       "</tr>\n",
       "<tr>\n",
       "  <th>Date:</th>             <td>Tue, 10 Jan 2023</td> <th>  Prob (F-statistic):</th> <td>3.28e-139</td>\n",
       "</tr>\n",
       "<tr>\n",
       "  <th>Time:</th>                 <td>11:22:34</td>     <th>  Log-Likelihood:    </th> <td> -509.81</td> \n",
       "</tr>\n",
       "<tr>\n",
       "  <th>No. Observations:</th>      <td>   373</td>      <th>  AIC:               </th> <td>   1026.</td> \n",
       "</tr>\n",
       "<tr>\n",
       "  <th>Df Residuals:</th>          <td>   370</td>      <th>  BIC:               </th> <td>   1037.</td> \n",
       "</tr>\n",
       "<tr>\n",
       "  <th>Df Model:</th>              <td>     2</td>      <th>                     </th>     <td> </td>    \n",
       "</tr>\n",
       "<tr>\n",
       "  <th>Covariance Type:</th>      <td>nonrobust</td>    <th>                     </th>     <td> </td>    \n",
       "</tr>\n",
       "</table>\n",
       "<table class=\"simpletable\">\n",
       "<tr>\n",
       "         <td></td>            <th>coef</th>     <th>std err</th>      <th>t</th>      <th>P>|t|</th>  <th>[0.025</th>    <th>0.975]</th>  \n",
       "</tr>\n",
       "<tr>\n",
       "  <th>Intercept</th>       <td>    5.0128</td> <td>    0.087</td> <td>   57.859</td> <td> 0.000</td> <td>    4.842</td> <td>    5.183</td>\n",
       "</tr>\n",
       "<tr>\n",
       "  <th>C(booster)[T.2]</th> <td>    1.1753</td> <td>    0.119</td> <td>    9.851</td> <td> 0.000</td> <td>    0.941</td> <td>    1.410</td>\n",
       "</tr>\n",
       "<tr>\n",
       "  <th>C(booster)[T.3]</th> <td>    4.8828</td> <td>    0.124</td> <td>   39.515</td> <td> 0.000</td> <td>    4.640</td> <td>    5.126</td>\n",
       "</tr>\n",
       "</table>\n",
       "<table class=\"simpletable\">\n",
       "<tr>\n",
       "  <th>Omnibus:</th>       <td> 0.272</td> <th>  Durbin-Watson:     </th> <td>   2.039</td>\n",
       "</tr>\n",
       "<tr>\n",
       "  <th>Prob(Omnibus):</th> <td> 0.873</td> <th>  Jarque-Bera (JB):  </th> <td>   0.392</td>\n",
       "</tr>\n",
       "<tr>\n",
       "  <th>Skew:</th>          <td>-0.039</td> <th>  Prob(JB):          </th> <td>   0.822</td>\n",
       "</tr>\n",
       "<tr>\n",
       "  <th>Kurtosis:</th>      <td> 2.862</td> <th>  Cond. No.          </th> <td>    3.78</td>\n",
       "</tr>\n",
       "</table><br/><br/>Notes:<br/>[1] Standard Errors assume that the covariance matrix of the errors is correctly specified."
      ],
      "text/plain": [
       "<class 'statsmodels.iolib.summary.Summary'>\n",
       "\"\"\"\n",
       "                            OLS Regression Results                            \n",
       "==============================================================================\n",
       "Dep. Variable:                   time   R-squared:                       0.822\n",
       "Model:                            OLS   Adj. R-squared:                  0.821\n",
       "Method:                 Least Squares   F-statistic:                     851.9\n",
       "Date:                Tue, 10 Jan 2023   Prob (F-statistic):          3.28e-139\n",
       "Time:                        11:22:34   Log-Likelihood:                -509.81\n",
       "No. Observations:                 373   AIC:                             1026.\n",
       "Df Residuals:                     370   BIC:                             1037.\n",
       "Df Model:                           2                                         \n",
       "Covariance Type:            nonrobust                                         \n",
       "===================================================================================\n",
       "                      coef    std err          t      P>|t|      [0.025      0.975]\n",
       "-----------------------------------------------------------------------------------\n",
       "Intercept           5.0128      0.087     57.859      0.000       4.842       5.183\n",
       "C(booster)[T.2]     1.1753      0.119      9.851      0.000       0.941       1.410\n",
       "C(booster)[T.3]     4.8828      0.124     39.515      0.000       4.640       5.126\n",
       "==============================================================================\n",
       "Omnibus:                        0.272   Durbin-Watson:                   2.039\n",
       "Prob(Omnibus):                  0.873   Jarque-Bera (JB):                0.392\n",
       "Skew:                          -0.039   Prob(JB):                        0.822\n",
       "Kurtosis:                       2.862   Cond. No.                         3.78\n",
       "==============================================================================\n",
       "\n",
       "Notes:\n",
       "[1] Standard Errors assume that the covariance matrix of the errors is correctly specified.\n",
       "\"\"\""
      ]
     },
     "execution_count": 6,
     "metadata": {},
     "output_type": "execute_result"
    }
   ],
   "source": [
    "model = smf.ols('time ~ C(booster)', data = candy).fit()\n",
    "model.summary()"
   ]
  },
  {
   "cell_type": "markdown",
   "id": "ca585f75",
   "metadata": {},
   "source": [
    "We can see from this output that the relevant test statistic is 851.9 and the associated p-value is 3.28e-139 on 2 and 370 degrees of freedom. Clearly we reject the null hypothesis and conclude that the expected playing time is not the same in each of the booster conditions.\n",
    "\n",
    "Next let us do this calculation manually."
   ]
  },
  {
   "cell_type": "code",
   "execution_count": 7,
   "id": "9b441429",
   "metadata": {},
   "outputs": [
    {
     "name": "stdout",
     "output_type": "stream",
     "text": [
      "t = 851.8947210813038\n",
      "p-value = 3.2798729094423308e-139\n"
     ]
    }
   ],
   "source": [
    "m = 3\n",
    "n1 = len(y1)\n",
    "n2 = len(y2)\n",
    "n3 = len(y3)\n",
    "N = n1 + n2 + n3\n",
    "ybar = np.mean(candy[\"time\"])\n",
    "SSC = n1*(np.mean(y1) - ybar)**2 + n2*(np.mean(y2) - ybar)**2 + n3*(np.mean(y3) - ybar)**2 \n",
    "SSE = np.sum((y1 - np.mean(y1))**2) + np.sum((y2 - np.mean(y2))**2) + np.sum((y3 - np.mean(y3))**2)\n",
    "t = (SSC/(m-1)) / (SSE/(N-m))\n",
    "pv = stats.f.sf(t, dfn = m-1, dfd = N-m)\n",
    "print(\"t =\", t)\n",
    "print(\"p-value =\", pv)"
   ]
  }
 ],
 "metadata": {
  "kernelspec": {
   "display_name": "Python 3",
   "language": "python",
   "name": "python3"
  },
  "language_info": {
   "codemirror_mode": {
    "name": "ipython",
    "version": 3
   },
   "file_extension": ".py",
   "mimetype": "text/x-python",
   "name": "python",
   "nbconvert_exporter": "python",
   "pygments_lexer": "ipython3",
   "version": "3.8.8"
  }
 },
 "nbformat": 4,
 "nbformat_minor": 5
}
